{
 "cells": [
  {
   "cell_type": "markdown",
   "metadata": {},
   "source": [
    "# Extracting & Transforming Data"
   ]
  },
  {
   "cell_type": "code",
   "execution_count": 3,
   "metadata": {},
   "outputs": [],
   "source": [
    "import pandas as pd\n",
    "import numpy as np\n",
    "import matplotlib.pyplot as plt"
   ]
  },
  {
   "cell_type": "code",
   "execution_count": 4,
   "metadata": {},
   "outputs": [],
   "source": [
    "#Getting the Data:\n",
    "\n",
    "conf_df = pd.read_csv('https://raw.githubusercontent.com/CSSEGISandData/COVID-19/master/csse_covid_19_data/csse_covid_19_time_series/time_series_19-covid-Confirmed.csv')\n",
    "death_df = pd.read_csv('https://raw.githubusercontent.com/CSSEGISandData/COVID-19/master/csse_covid_19_data/csse_covid_19_time_series/time_series_19-covid-Deaths.csv')\n",
    "recov_df = pd.read_csv('https://raw.githubusercontent.com/CSSEGISandData/COVID-19/master/csse_covid_19_data/csse_covid_19_time_series/time_series_19-covid-Recovered.csv')"
   ]
  },
  {
   "cell_type": "code",
   "execution_count": 5,
   "metadata": {},
   "outputs": [
    {
     "data": {
      "text/html": [
       "<div>\n",
       "<style scoped>\n",
       "    .dataframe tbody tr th:only-of-type {\n",
       "        vertical-align: middle;\n",
       "    }\n",
       "\n",
       "    .dataframe tbody tr th {\n",
       "        vertical-align: top;\n",
       "    }\n",
       "\n",
       "    .dataframe thead th {\n",
       "        text-align: right;\n",
       "    }\n",
       "</style>\n",
       "<table border=\"1\" class=\"dataframe\">\n",
       "  <thead>\n",
       "    <tr style=\"text-align: right;\">\n",
       "      <th></th>\n",
       "      <th>Province/State</th>\n",
       "      <th>Country/Region</th>\n",
       "      <th>Lat</th>\n",
       "      <th>Long</th>\n",
       "      <th>1/22/20</th>\n",
       "      <th>1/23/20</th>\n",
       "      <th>1/24/20</th>\n",
       "      <th>1/25/20</th>\n",
       "      <th>1/26/20</th>\n",
       "      <th>1/27/20</th>\n",
       "      <th>...</th>\n",
       "      <th>3/6/20</th>\n",
       "      <th>3/7/20</th>\n",
       "      <th>3/8/20</th>\n",
       "      <th>3/9/20</th>\n",
       "      <th>3/10/20</th>\n",
       "      <th>3/11/20</th>\n",
       "      <th>3/12/20</th>\n",
       "      <th>3/13/20</th>\n",
       "      <th>3/14/20</th>\n",
       "      <th>3/15/20</th>\n",
       "    </tr>\n",
       "  </thead>\n",
       "  <tbody>\n",
       "    <tr>\n",
       "      <th>0</th>\n",
       "      <td>NaN</td>\n",
       "      <td>Thailand</td>\n",
       "      <td>15.0000</td>\n",
       "      <td>101.0000</td>\n",
       "      <td>2</td>\n",
       "      <td>3</td>\n",
       "      <td>5</td>\n",
       "      <td>7</td>\n",
       "      <td>8</td>\n",
       "      <td>8</td>\n",
       "      <td>...</td>\n",
       "      <td>48</td>\n",
       "      <td>50</td>\n",
       "      <td>50</td>\n",
       "      <td>50</td>\n",
       "      <td>53</td>\n",
       "      <td>59</td>\n",
       "      <td>70</td>\n",
       "      <td>75</td>\n",
       "      <td>82</td>\n",
       "      <td>114</td>\n",
       "    </tr>\n",
       "    <tr>\n",
       "      <th>1</th>\n",
       "      <td>NaN</td>\n",
       "      <td>Japan</td>\n",
       "      <td>36.0000</td>\n",
       "      <td>138.0000</td>\n",
       "      <td>2</td>\n",
       "      <td>1</td>\n",
       "      <td>2</td>\n",
       "      <td>2</td>\n",
       "      <td>4</td>\n",
       "      <td>4</td>\n",
       "      <td>...</td>\n",
       "      <td>420</td>\n",
       "      <td>461</td>\n",
       "      <td>502</td>\n",
       "      <td>511</td>\n",
       "      <td>581</td>\n",
       "      <td>639</td>\n",
       "      <td>639</td>\n",
       "      <td>701</td>\n",
       "      <td>773</td>\n",
       "      <td>839</td>\n",
       "    </tr>\n",
       "    <tr>\n",
       "      <th>2</th>\n",
       "      <td>NaN</td>\n",
       "      <td>Singapore</td>\n",
       "      <td>1.2833</td>\n",
       "      <td>103.8333</td>\n",
       "      <td>0</td>\n",
       "      <td>1</td>\n",
       "      <td>3</td>\n",
       "      <td>3</td>\n",
       "      <td>4</td>\n",
       "      <td>5</td>\n",
       "      <td>...</td>\n",
       "      <td>130</td>\n",
       "      <td>138</td>\n",
       "      <td>150</td>\n",
       "      <td>150</td>\n",
       "      <td>160</td>\n",
       "      <td>178</td>\n",
       "      <td>178</td>\n",
       "      <td>200</td>\n",
       "      <td>212</td>\n",
       "      <td>226</td>\n",
       "    </tr>\n",
       "    <tr>\n",
       "      <th>3</th>\n",
       "      <td>NaN</td>\n",
       "      <td>Nepal</td>\n",
       "      <td>28.1667</td>\n",
       "      <td>84.2500</td>\n",
       "      <td>0</td>\n",
       "      <td>0</td>\n",
       "      <td>0</td>\n",
       "      <td>1</td>\n",
       "      <td>1</td>\n",
       "      <td>1</td>\n",
       "      <td>...</td>\n",
       "      <td>1</td>\n",
       "      <td>1</td>\n",
       "      <td>1</td>\n",
       "      <td>1</td>\n",
       "      <td>1</td>\n",
       "      <td>1</td>\n",
       "      <td>1</td>\n",
       "      <td>1</td>\n",
       "      <td>1</td>\n",
       "      <td>1</td>\n",
       "    </tr>\n",
       "    <tr>\n",
       "      <th>4</th>\n",
       "      <td>NaN</td>\n",
       "      <td>Malaysia</td>\n",
       "      <td>2.5000</td>\n",
       "      <td>112.5000</td>\n",
       "      <td>0</td>\n",
       "      <td>0</td>\n",
       "      <td>0</td>\n",
       "      <td>3</td>\n",
       "      <td>4</td>\n",
       "      <td>4</td>\n",
       "      <td>...</td>\n",
       "      <td>83</td>\n",
       "      <td>93</td>\n",
       "      <td>99</td>\n",
       "      <td>117</td>\n",
       "      <td>129</td>\n",
       "      <td>149</td>\n",
       "      <td>149</td>\n",
       "      <td>197</td>\n",
       "      <td>238</td>\n",
       "      <td>428</td>\n",
       "    </tr>\n",
       "  </tbody>\n",
       "</table>\n",
       "<p>5 rows × 58 columns</p>\n",
       "</div>"
      ],
      "text/plain": [
       "  Province/State Country/Region      Lat      Long  1/22/20  1/23/20  1/24/20  \\\n",
       "0            NaN       Thailand  15.0000  101.0000        2        3        5   \n",
       "1            NaN          Japan  36.0000  138.0000        2        1        2   \n",
       "2            NaN      Singapore   1.2833  103.8333        0        1        3   \n",
       "3            NaN          Nepal  28.1667   84.2500        0        0        0   \n",
       "4            NaN       Malaysia   2.5000  112.5000        0        0        0   \n",
       "\n",
       "   1/25/20  1/26/20  1/27/20  ...  3/6/20  3/7/20  3/8/20  3/9/20  3/10/20  \\\n",
       "0        7        8        8  ...      48      50      50      50       53   \n",
       "1        2        4        4  ...     420     461     502     511      581   \n",
       "2        3        4        5  ...     130     138     150     150      160   \n",
       "3        1        1        1  ...       1       1       1       1        1   \n",
       "4        3        4        4  ...      83      93      99     117      129   \n",
       "\n",
       "   3/11/20  3/12/20  3/13/20  3/14/20  3/15/20  \n",
       "0       59       70       75       82      114  \n",
       "1      639      639      701      773      839  \n",
       "2      178      178      200      212      226  \n",
       "3        1        1        1        1        1  \n",
       "4      149      149      197      238      428  \n",
       "\n",
       "[5 rows x 58 columns]"
      ]
     },
     "execution_count": 5,
     "metadata": {},
     "output_type": "execute_result"
    }
   ],
   "source": [
    "conf_df.head()"
   ]
  },
  {
   "cell_type": "code",
   "execution_count": 6,
   "metadata": {},
   "outputs": [],
   "source": [
    "conf_df = conf_df.sort_values(by=[conf_df.columns[-1]], ascending=False)\n",
    "death_df = death_df.sort_values(by=[death_df.columns[-1]], ascending=False)\n",
    "recov_df = recov_df.sort_values(by=[recov_df.columns[-1]], ascending=False)"
   ]
  },
  {
   "cell_type": "code",
   "execution_count": 7,
   "metadata": {},
   "outputs": [],
   "source": [
    "# Transforming go to get dates as rows:\n",
    "\n",
    "conf_df['location'] = np.where(conf_df['Country/Region']=='China', 'Ch-'+ conf_df['Province/State'],conf_df['Country/Region'])\n",
    "conf_df = conf_df.groupby('location').sum().drop(['Lat','Long'],axis=1)\n",
    "conf_df = conf_df.sort_values(by=[conf_df.columns[-1]], ascending=False)\n",
    "conf_ts = conf_df.T\n",
    "\n",
    "death_df['location'] = np.where(death_df['Country/Region']=='China', 'Ch-'+ death_df['Province/State'],death_df['Country/Region'])\n",
    "death_df = death_df.groupby('location').sum().drop(['Lat','Long'],axis=1)\n",
    "death_df = death_df.sort_values(by=[death_df.columns[-1]], ascending=False)\n",
    "death_ts = death_df.T\n",
    "\n",
    "recov_df['location'] = np.where(recov_df['Country/Region']=='China', 'Ch-'+ recov_df['Province/State'],recov_df['Country/Region'])\n",
    "recov_df = recov_df.groupby('location').sum().drop(['Lat','Long'],axis=1)\n",
    "recov_df = recov_df.sort_values(by=[recov_df.columns[-1]], ascending=False)\n",
    "recov_ts = recov_df.T"
   ]
  },
  {
   "cell_type": "code",
   "execution_count": 8,
   "metadata": {},
   "outputs": [],
   "source": [
    "conf_ts.to_csv('conf_ts.csv')"
   ]
  },
  {
   "cell_type": "code",
   "execution_count": 9,
   "metadata": {},
   "outputs": [],
   "source": [
    "conf_ts['Total'] = conf_ts.sum(axis=1)\n",
    "death_ts['Total'] = death_ts.sum(axis=1)\n",
    "recov_ts['Total'] = recov_ts.sum(axis=1)"
   ]
  },
  {
   "cell_type": "code",
   "execution_count": 10,
   "metadata": {},
   "outputs": [
    {
     "data": {
      "text/html": [
       "<div>\n",
       "<style scoped>\n",
       "    .dataframe tbody tr th:only-of-type {\n",
       "        vertical-align: middle;\n",
       "    }\n",
       "\n",
       "    .dataframe tbody tr th {\n",
       "        vertical-align: top;\n",
       "    }\n",
       "\n",
       "    .dataframe thead th {\n",
       "        text-align: right;\n",
       "    }\n",
       "</style>\n",
       "<table border=\"1\" class=\"dataframe\">\n",
       "  <thead>\n",
       "    <tr style=\"text-align: right;\">\n",
       "      <th>location</th>\n",
       "      <th>Ch-Hubei</th>\n",
       "      <th>Italy</th>\n",
       "      <th>Iran</th>\n",
       "      <th>Korea, South</th>\n",
       "      <th>Spain</th>\n",
       "      <th>Germany</th>\n",
       "      <th>France</th>\n",
       "      <th>US</th>\n",
       "      <th>Switzerland</th>\n",
       "      <th>Ch-Guangdong</th>\n",
       "      <th>...</th>\n",
       "      <th>Ethiopia</th>\n",
       "      <th>Gabon</th>\n",
       "      <th>Guatemala</th>\n",
       "      <th>Guinea</th>\n",
       "      <th>Holy See</th>\n",
       "      <th>Mauritania</th>\n",
       "      <th>Mongolia</th>\n",
       "      <th>Nepal</th>\n",
       "      <th>occupied Palestinian territory</th>\n",
       "      <th>Total</th>\n",
       "    </tr>\n",
       "  </thead>\n",
       "  <tbody>\n",
       "    <tr>\n",
       "      <th>1/22/20</th>\n",
       "      <td>444</td>\n",
       "      <td>0</td>\n",
       "      <td>0</td>\n",
       "      <td>1</td>\n",
       "      <td>0</td>\n",
       "      <td>0</td>\n",
       "      <td>0</td>\n",
       "      <td>1</td>\n",
       "      <td>0</td>\n",
       "      <td>26</td>\n",
       "      <td>...</td>\n",
       "      <td>0</td>\n",
       "      <td>0</td>\n",
       "      <td>0</td>\n",
       "      <td>0</td>\n",
       "      <td>0</td>\n",
       "      <td>0</td>\n",
       "      <td>0</td>\n",
       "      <td>0</td>\n",
       "      <td>0</td>\n",
       "      <td>555</td>\n",
       "    </tr>\n",
       "    <tr>\n",
       "      <th>1/23/20</th>\n",
       "      <td>444</td>\n",
       "      <td>0</td>\n",
       "      <td>0</td>\n",
       "      <td>1</td>\n",
       "      <td>0</td>\n",
       "      <td>0</td>\n",
       "      <td>0</td>\n",
       "      <td>1</td>\n",
       "      <td>0</td>\n",
       "      <td>32</td>\n",
       "      <td>...</td>\n",
       "      <td>0</td>\n",
       "      <td>0</td>\n",
       "      <td>0</td>\n",
       "      <td>0</td>\n",
       "      <td>0</td>\n",
       "      <td>0</td>\n",
       "      <td>0</td>\n",
       "      <td>0</td>\n",
       "      <td>0</td>\n",
       "      <td>653</td>\n",
       "    </tr>\n",
       "    <tr>\n",
       "      <th>1/24/20</th>\n",
       "      <td>549</td>\n",
       "      <td>0</td>\n",
       "      <td>0</td>\n",
       "      <td>2</td>\n",
       "      <td>0</td>\n",
       "      <td>0</td>\n",
       "      <td>2</td>\n",
       "      <td>2</td>\n",
       "      <td>0</td>\n",
       "      <td>53</td>\n",
       "      <td>...</td>\n",
       "      <td>0</td>\n",
       "      <td>0</td>\n",
       "      <td>0</td>\n",
       "      <td>0</td>\n",
       "      <td>0</td>\n",
       "      <td>0</td>\n",
       "      <td>0</td>\n",
       "      <td>0</td>\n",
       "      <td>0</td>\n",
       "      <td>941</td>\n",
       "    </tr>\n",
       "    <tr>\n",
       "      <th>1/25/20</th>\n",
       "      <td>761</td>\n",
       "      <td>0</td>\n",
       "      <td>0</td>\n",
       "      <td>2</td>\n",
       "      <td>0</td>\n",
       "      <td>0</td>\n",
       "      <td>3</td>\n",
       "      <td>2</td>\n",
       "      <td>0</td>\n",
       "      <td>78</td>\n",
       "      <td>...</td>\n",
       "      <td>0</td>\n",
       "      <td>0</td>\n",
       "      <td>0</td>\n",
       "      <td>0</td>\n",
       "      <td>0</td>\n",
       "      <td>0</td>\n",
       "      <td>0</td>\n",
       "      <td>1</td>\n",
       "      <td>0</td>\n",
       "      <td>1434</td>\n",
       "    </tr>\n",
       "    <tr>\n",
       "      <th>1/26/20</th>\n",
       "      <td>1058</td>\n",
       "      <td>0</td>\n",
       "      <td>0</td>\n",
       "      <td>3</td>\n",
       "      <td>0</td>\n",
       "      <td>0</td>\n",
       "      <td>3</td>\n",
       "      <td>5</td>\n",
       "      <td>0</td>\n",
       "      <td>111</td>\n",
       "      <td>...</td>\n",
       "      <td>0</td>\n",
       "      <td>0</td>\n",
       "      <td>0</td>\n",
       "      <td>0</td>\n",
       "      <td>0</td>\n",
       "      <td>0</td>\n",
       "      <td>0</td>\n",
       "      <td>1</td>\n",
       "      <td>0</td>\n",
       "      <td>2118</td>\n",
       "    </tr>\n",
       "  </tbody>\n",
       "</table>\n",
       "<p>5 rows × 180 columns</p>\n",
       "</div>"
      ],
      "text/plain": [
       "location  Ch-Hubei  Italy  Iran  Korea, South  Spain  Germany  France  US  \\\n",
       "1/22/20        444      0     0             1      0        0       0   1   \n",
       "1/23/20        444      0     0             1      0        0       0   1   \n",
       "1/24/20        549      0     0             2      0        0       2   2   \n",
       "1/25/20        761      0     0             2      0        0       3   2   \n",
       "1/26/20       1058      0     0             3      0        0       3   5   \n",
       "\n",
       "location  Switzerland  Ch-Guangdong  ...  Ethiopia  Gabon  Guatemala  Guinea  \\\n",
       "1/22/20             0            26  ...         0      0          0       0   \n",
       "1/23/20             0            32  ...         0      0          0       0   \n",
       "1/24/20             0            53  ...         0      0          0       0   \n",
       "1/25/20             0            78  ...         0      0          0       0   \n",
       "1/26/20             0           111  ...         0      0          0       0   \n",
       "\n",
       "location  Holy See  Mauritania  Mongolia  Nepal  \\\n",
       "1/22/20          0           0         0      0   \n",
       "1/23/20          0           0         0      0   \n",
       "1/24/20          0           0         0      0   \n",
       "1/25/20          0           0         0      1   \n",
       "1/26/20          0           0         0      1   \n",
       "\n",
       "location  occupied Palestinian territory  Total  \n",
       "1/22/20                                0    555  \n",
       "1/23/20                                0    653  \n",
       "1/24/20                                0    941  \n",
       "1/25/20                                0   1434  \n",
       "1/26/20                                0   2118  \n",
       "\n",
       "[5 rows x 180 columns]"
      ]
     },
     "execution_count": 10,
     "metadata": {},
     "output_type": "execute_result"
    }
   ],
   "source": [
    "conf_ts.head()"
   ]
  },
  {
   "cell_type": "code",
   "execution_count": 11,
   "metadata": {},
   "outputs": [
    {
     "name": "stdout",
     "output_type": "stream",
     "text": [
      "# of locations:  180\n",
      "['Ch-Hubei', 'Italy', 'Iran', 'Korea, South', 'Spain', 'Germany', 'France', 'US', 'Switzerland', 'Ch-Guangdong', 'Ch-Henan', 'Ch-Zhejiang', 'Norway', 'United Kingdom', 'Netherlands', 'Sweden', 'Ch-Hunan', 'Ch-Anhui', 'Ch-Jiangxi', 'Belgium', 'Denmark', 'Austria', 'Japan', 'Ch-Shandong', 'Cruise Ship', 'Ch-Jiangsu', 'Ch-Chongqing', 'Ch-Sichuan', 'Ch-Heilongjiang', 'Ch-Beijing', 'Malaysia', 'Qatar', 'Ch-Shanghai', 'Greece', 'Ch-Hebei', 'Australia', 'Ch-Fujian', 'Czechia', 'Ch-Guangxi', 'Canada', 'Israel', 'Ch-Shaanxi', 'Portugal', 'Finland', 'Singapore', 'Slovenia', 'Bahrain', 'Ch-Yunnan', 'Iceland', 'Estonia', 'Ch-Hainan', 'Brazil', 'Ch-Guizhou', 'Ch-Hong Kong', 'Philippines', 'Ch-Tianjin', 'Ch-Gansu', 'Ch-Shanxi', 'Romania', 'Ireland', 'Ch-Liaoning', 'Poland', 'Indonesia', 'Iraq', 'Thailand', 'India', 'Kuwait', 'Egypt', 'Lebanon', 'Saudi Arabia', 'San Marino', 'United Arab Emirates', 'Ch-Jilin', 'Ch-Xinjiang', 'Ch-Ningxia', 'Ch-Inner Mongolia', 'Chile', 'Russia', 'Luxembourg', 'Taiwan*', 'Vietnam', 'Slovakia', 'Pakistan', 'Bulgaria', 'South Africa', 'Brunei', 'Croatia', 'Algeria', 'Serbia', 'Argentina', 'Panama', 'Peru', 'Albania', 'Mexico', 'Colombia', 'Georgia', 'Hungary', 'Latvia', 'Ecuador', 'Morocco', 'Belarus', 'Costa Rica', 'Armenia', 'Cyprus', 'Bosnia and Herzegovina', 'Senegal', 'Azerbaijan', 'Moldova', 'Oman', 'Malta', 'Tunisia', 'Ch-Qinghai', 'Sri Lanka', 'Afghanistan', 'North Macedonia', 'Maldives', 'Lithuania', 'Dominican Republic', 'Bolivia', 'Venezuela', 'Ch-Macau', 'Jamaica', 'Kazakhstan', 'Martinique', 'Jordan', 'New Zealand', 'Cambodia', 'Reunion', 'Ghana', 'Turkey', 'Paraguay', 'Bangladesh', 'Cuba', 'Liechtenstein', 'Guyana', 'Uruguay', 'Guadeloupe', 'Honduras', 'Burkina Faso', 'Ukraine', 'Kenya', 'Saint Lucia', 'Cameroon', 'Aruba', 'Seychelles', 'Trinidad and Tobago', 'Congo (Kinshasa)', 'Nigeria', 'Namibia', 'Monaco', 'Jersey', 'Kosovo', 'Sudan', 'Uzbekistan', 'Suriname', 'Togo', 'Guernsey', 'Saint Vincent and the Grenadines', 'Rwanda', 'Andorra', 'Antigua and Barbuda', 'Bhutan', 'Cayman Islands', 'Central African Republic', 'Ch-Tibet', 'Congo (Brazzaville)', \"Cote d'Ivoire\", 'Curacao', 'Equatorial Guinea', 'Eswatini', 'Ethiopia', 'Gabon', 'Guatemala', 'Guinea', 'Holy See', 'Mauritania', 'Mongolia', 'Nepal', 'occupied Palestinian territory', 'Total']\n"
     ]
    }
   ],
   "source": [
    "print('# of locations: ', len(list(conf_ts.columns)))\n",
    "lst_locs = list(conf_ts.columns)\n",
    "print(lst_locs)"
   ]
  },
  {
   "cell_type": "code",
   "execution_count": 12,
   "metadata": {},
   "outputs": [],
   "source": [
    "#conf_ts = conf_ts.drop(['Cruise Ship','Total'], axis=1)"
   ]
  },
  {
   "cell_type": "markdown",
   "metadata": {},
   "source": [
    "## Converting 0's to nan, for plotting pourposes."
   ]
  },
  {
   "cell_type": "code",
   "execution_count": 13,
   "metadata": {},
   "outputs": [],
   "source": [
    "# converting 0's to nan, for plotting pourposes.\n",
    "\n",
    "lst_locs = list(conf_ts.columns)\n",
    "\n",
    "conf_ts2 = conf_ts.copy()\n",
    "death_ts2 = death_ts.copy()\n",
    "recov_ts2 = recov_ts.copy()\n",
    "\n",
    "for loc_n in lst_locs:\n",
    "    conf_ts2[loc_n] = np.where(conf_ts2[loc_n]==0, np.nan, conf_ts2[loc_n])\n"
   ]
  },
  {
   "cell_type": "markdown",
   "metadata": {},
   "source": [
    "## Generating First Appearence Data"
   ]
  },
  {
   "cell_type": "code",
   "execution_count": 14,
   "metadata": {},
   "outputs": [],
   "source": [
    "f_app = conf_ts2.copy()\n",
    "day_app = pd.DataFrame(f_app.isnull().sum()+1, columns=['Day_inf_detected'])\n",
    "day_app.to_csv('../data/day_inf_dectectec.csv')"
   ]
  },
  {
   "cell_type": "markdown",
   "metadata": {},
   "source": [
    "## Plotting Data"
   ]
  },
  {
   "cell_type": "code",
   "execution_count": 15,
   "metadata": {},
   "outputs": [
    {
     "data": {
      "text/plain": [
       "<matplotlib.axes._subplots.AxesSubplot at 0x10792f358>"
      ]
     },
     "execution_count": 15,
     "metadata": {},
     "output_type": "execute_result"
    },
    {
     "data": {
      "image/png": "[encoded data removed]",
      "text/plain": [
       "<Figure size 720x576 with 1 Axes>"
      ]
     },
     "metadata": {
      "needs_background": "light"
     },
     "output_type": "display_data"
    }
   ],
   "source": [
    "# Plotting each case locations:\n",
    "\n",
    "fit = plt.figure(figsize=(10,8))\n",
    "conf_ts2['Ch-Guangdong'].plot()\n",
    "death_ts2['Ch-Guangdong'].plot()\n",
    "recov_ts2['Ch-Guangdong'].plot()\n"
   ]
  },
  {
   "cell_type": "code",
   "execution_count": 16,
   "metadata": {},
   "outputs": [
    {
     "name": "stdout",
     "output_type": "stream",
     "text": [
      "['Ch-Hubei', 'Italy', 'Iran', 'Korea, South', 'Spain', 'Germany', 'France', 'US', 'Switzerland', 'Ch-Guangdong', 'Ch-Henan', 'Ch-Zhejiang', 'Norway', 'United Kingdom', 'Netherlands', 'Sweden', 'Ch-Hunan', 'Ch-Anhui', 'Ch-Jiangxi', 'Belgium', 'Denmark', 'Austria', 'Japan', 'Ch-Shandong', 'Cruise Ship', 'Ch-Jiangsu', 'Ch-Chongqing', 'Ch-Sichuan', 'Ch-Heilongjiang', 'Ch-Beijing', 'Malaysia', 'Qatar', 'Ch-Shanghai', 'Greece', 'Ch-Hebei', 'Australia', 'Ch-Fujian', 'Czechia', 'Ch-Guangxi', 'Canada']\n"
     ]
    }
   ],
   "source": [
    "# Top 16 locations\n",
    "top_locs = lst_locs[:40]\n",
    "print(top_locs)"
   ]
  },
  {
   "cell_type": "code",
   "execution_count": 17,
   "metadata": {},
   "outputs": [
    {
     "data": {
      "image/png": "[encoded data removed]",
      "text/plain": [
       "<Figure size 1152x1296 with 25 Axes>"
      ]
     },
     "metadata": {
      "needs_background": "light"
     },
     "output_type": "display_data"
    }
   ],
   "source": [
    "fig = plt.figure(figsize=(16,18))\n",
    "\n",
    "# Divide the figure into a 4x4 grid:\n",
    "\n",
    "ax1 = fig.add_subplot(5,5,1)\n",
    "ax2 = fig.add_subplot(5,5,2)\n",
    "ax3 = fig.add_subplot(5,5,3)\n",
    "ax4 = fig.add_subplot(5,5,4)\n",
    "ax5 = fig.add_subplot(5,5,5)\n",
    "ax6 = fig.add_subplot(5,5,6)\n",
    "ax7 = fig.add_subplot(5,5,7)\n",
    "ax8 = fig.add_subplot(5,5,8)\n",
    "ax9 = fig.add_subplot(5,5,9)\n",
    "ax10= fig.add_subplot(5,5,10)\n",
    "ax11= fig.add_subplot(5,5,11)\n",
    "ax12= fig.add_subplot(5,5,12)\n",
    "ax13= fig.add_subplot(5,5,13)\n",
    "ax14= fig.add_subplot(5,5,14)\n",
    "ax15= fig.add_subplot(5,5,15)\n",
    "ax16= fig.add_subplot(5,5,16)\n",
    "ax17= fig.add_subplot(5,5,17)\n",
    "ax18= fig.add_subplot(5,5,18)\n",
    "ax19= fig.add_subplot(5,5,19)\n",
    "ax20= fig.add_subplot(5,5,20)\n",
    "ax21= fig.add_subplot(5,5,21)\n",
    "ax22= fig.add_subplot(5,5,22)\n",
    "ax23= fig.add_subplot(5,5,23)\n",
    "ax24= fig.add_subplot(5,5,24)\n",
    "ax25= fig.add_subplot(5,5,25)\n",
    "\n",
    "ax_lst = [ax1,ax2,ax3,ax4,ax5,ax6,ax7,ax8,ax9,ax10,ax11,ax12,ax13,ax14,ax15,\n",
    "          ax16,ax17,ax18,ax19,ax20,ax21,ax22,ax23,ax24,ax25]\n",
    "\n",
    "for count, axn in enumerate(ax_lst): \n",
    "    conf_ts2[top_locs[count]].plot(ax=axn)\n",
    "    axn.set_title(top_locs[count])"
   ]
  },
  {
   "cell_type": "markdown",
   "metadata": {},
   "source": [
    "# SciPy to Determine Curves"
   ]
  },
  {
   "cell_type": "code",
   "execution_count": 18,
   "metadata": {},
   "outputs": [],
   "source": [
    "from scipy.optimize import curve_fit\n",
    "from sklearn.metrics import r2_score\n",
    "\n",
    "# Len = 41\n",
    "x = np.arange(len(conf_ts['Italy']))\n",
    "\n",
    "\n",
    "#y = conf_ts['Ch-Anhui'].values\n",
    "#y = conf_ts['Iran'].values\n",
    "#y = conf_ts['Ch-Henan'].values\n",
    "#y = conf_ts['Ch-Hubei'].values\n",
    "#y = conf_ts['South Korea'].values\n",
    "#y = conf_ts['Italy'].values\n",
    "#y = conf_ts['Ch-Guangdong'].values\n",
    "#y = conf_ts['Mexico'].values\n",
    "#y = conf_ts['Japan'].values\n",
    "#y = conf_ts['France'].values\n",
    "#y = conf_ts['Others'].values\n",
    "#y = conf_ts['US'].values\n",
    "#y = conf_ts['Hong Kong'].values\n",
    "#y = conf_ts['Total'].values\n",
    "#y = conf_ts['Germany'].values\n",
    "#y = conf_ts['Spain'].values\n",
    "#y = conf_ts['Ch-Ningxia'].values\n",
    "#y = conf_ts['Bahrain'].values\n",
    "#y = conf_ts['Kuwait'].values\n",
    "#y = conf_ts['Ch-Inner Mongolia'].values\n",
    "y = conf_ts['Ch-Jilin'].values\n",
    "#y = conf_ts['Switzerland'].values\n",
    "\n",
    "\n",
    "\n",
    "# Logistic Regretion Formula:\n",
    "# L / (1 + e ^-k( x - a ))\n",
    "# L -> Max Growth ,  a -> x value at midpoint ,  k -> Growth Rate\n",
    "\n",
    "def func(x, L, k, a):\n",
    "    return L/(1 + np.exp(-k*(x-a)))\n",
    "\n",
    "# Limitar: 0 < L < 100,000 ;  0 < k < 1 ;  0 < a < 50"
   ]
  },
  {
   "cell_type": "code",
   "execution_count": 19,
   "metadata": {},
   "outputs": [
    {
     "data": {
      "text/plain": [
       "array([92.22057769,  0.34056546, 13.62665688])"
      ]
     },
     "execution_count": 19,
     "metadata": {},
     "output_type": "execute_result"
    }
   ],
   "source": [
    "popt, pcov = curve_fit(func, x, y, bounds=(0, [80000, 1, 100]))\n",
    "popt"
   ]
  },
  {
   "cell_type": "code",
   "execution_count": 20,
   "metadata": {},
   "outputs": [
    {
     "name": "stdout",
     "output_type": "stream",
     "text": [
      "R2:  0.9976277310635115\n"
     ]
    },
    {
     "data": {
      "image/png": "[encoded data removed]",
      "text/plain": [
       "<Figure size 576x432 with 1 Axes>"
      ]
     },
     "metadata": {
      "needs_background": "light"
     },
     "output_type": "display_data"
    }
   ],
   "source": [
    "fig = plt.figure(figsize=(8,6))\n",
    "plt.scatter(x,y)\n",
    "x2 = np.arange(80)\n",
    "plt.plot(x2, func(x2, *popt), 'r-', label='fit: L=%5.3f, k=%5.3f, a=%5.3f' % tuple(popt))\n",
    "plt.xlabel('x')\n",
    "plt.ylabel('y')\n",
    "plt.legend()\n",
    "r2 = r2_score(y, func(x, *popt))\n",
    "print('R2: ',r2)"
   ]
  },
  {
   "cell_type": "markdown",
   "metadata": {},
   "source": [
    "# Building DataFrame with Crucial Data\n"
   ]
  },
  {
   "cell_type": "code",
   "execution_count": 18,
   "metadata": {},
   "outputs": [],
   "source": [
    "from scipy.optimize import curve_fit\n",
    "from sklearn.metrics import r2_score\n",
    "\n",
    "res_df = pd.DataFrame()\n",
    "\n",
    "res_df['Total_conf'] =  conf_df.iloc[:,-1]\n",
    "res_df['Total_death'] =  death_df.iloc[:,-1]\n",
    "res_df['Total_recov'] =  recov_df.iloc[:,-1]\n",
    "\n",
    "\n",
    "row_df = pd.DataFrame(res_df.sum(axis = 0), columns=['Worldwide']).T\n",
    "res_df = pd.concat([res_df, row_df])\n",
    "\n",
    "#res_df.iloc[0:40]\n"
   ]
  },
  {
   "cell_type": "code",
   "execution_count": 19,
   "metadata": {},
   "outputs": [],
   "source": [
    "loc_list = list(res_df.index[:50])\n",
    "loc_list.append('Mexico')\n",
    "\n",
    "log_g_curves = []\n",
    "\n",
    "def func(x, L, k, a):\n",
    "    return L/(1 + np.exp(-k*(x-a)))\n",
    "\n",
    "for loc_i in loc_list:\n",
    "    x = np.arange(len(conf_ts[loc_i]))\n",
    "    y = conf_ts[loc_i].values\n",
    "\n",
    "    popt, pcov = curve_fit(func, x, y, bounds=(0, [90000, 1, 100]))\n",
    "    \n",
    "    L = popt[0]\n",
    "    k = popt[1]\n",
    "    a = popt[2]\n",
    "    r2 = r2_score(y, func(x, *popt))\n",
    "    if loc_i == 'Total':\n",
    "        loc_i = 'Worldwide'\n",
    "    \n",
    "    dict = {'location':loc_i,'L':L,'k':k,'a':a,'R2':r2}\n",
    "    log_g_curves.append(dict)"
   ]
  },
  {
   "cell_type": "code",
   "execution_count": 20,
   "metadata": {},
   "outputs": [
    {
     "data": {
      "text/html": [
       "<div>\n",
       "<style scoped>\n",
       "    .dataframe tbody tr th:only-of-type {\n",
       "        vertical-align: middle;\n",
       "    }\n",
       "\n",
       "    .dataframe tbody tr th {\n",
       "        vertical-align: top;\n",
       "    }\n",
       "\n",
       "    .dataframe thead th {\n",
       "        text-align: right;\n",
       "    }\n",
       "</style>\n",
       "<table border=\"1\" class=\"dataframe\">\n",
       "  <thead>\n",
       "    <tr style=\"text-align: right;\">\n",
       "      <th></th>\n",
       "      <th>L</th>\n",
       "      <th>k</th>\n",
       "      <th>a</th>\n",
       "      <th>R2</th>\n",
       "    </tr>\n",
       "    <tr>\n",
       "      <th>location</th>\n",
       "      <th></th>\n",
       "      <th></th>\n",
       "      <th></th>\n",
       "      <th></th>\n",
       "    </tr>\n",
       "  </thead>\n",
       "  <tbody>\n",
       "    <tr>\n",
       "      <th>Ch-Yunnan</th>\n",
       "      <td>172.312359</td>\n",
       "      <td>0.270858</td>\n",
       "      <td>10.117381</td>\n",
       "      <td>0.988403</td>\n",
       "    </tr>\n",
       "    <tr>\n",
       "      <th>Portugal</th>\n",
       "      <td>90000.000000</td>\n",
       "      <td>0.357211</td>\n",
       "      <td>69.685083</td>\n",
       "      <td>0.985433</td>\n",
       "    </tr>\n",
       "    <tr>\n",
       "      <th>Ch-Hainan</th>\n",
       "      <td>169.365479</td>\n",
       "      <td>0.232514</td>\n",
       "      <td>12.565156</td>\n",
       "      <td>0.996186</td>\n",
       "    </tr>\n",
       "    <tr>\n",
       "      <th>Iceland</th>\n",
       "      <td>503.227966</td>\n",
       "      <td>0.235976</td>\n",
       "      <td>55.461331</td>\n",
       "      <td>0.988616</td>\n",
       "    </tr>\n",
       "    <tr>\n",
       "      <th>Mexico</th>\n",
       "      <td>89999.999973</td>\n",
       "      <td>0.179583</td>\n",
       "      <td>98.963557</td>\n",
       "      <td>0.891339</td>\n",
       "    </tr>\n",
       "  </tbody>\n",
       "</table>\n",
       "</div>"
      ],
      "text/plain": [
       "                      L         k          a        R2\n",
       "location                                              \n",
       "Ch-Yunnan    172.312359  0.270858  10.117381  0.988403\n",
       "Portugal   90000.000000  0.357211  69.685083  0.985433\n",
       "Ch-Hainan    169.365479  0.232514  12.565156  0.996186\n",
       "Iceland      503.227966  0.235976  55.461331  0.988616\n",
       "Mexico     89999.999973  0.179583  98.963557  0.891339"
      ]
     },
     "execution_count": 20,
     "metadata": {},
     "output_type": "execute_result"
    }
   ],
   "source": [
    "final_1 = pd.DataFrame(log_g_curves).set_index('location')\n",
    "final_1.tail()"
   ]
  },
  {
   "cell_type": "code",
   "execution_count": 21,
   "metadata": {},
   "outputs": [],
   "source": [
    "res = final_1\n",
    "pop_china = pd.read_csv('../Chinese_City_Population.csv')\n",
    "pop_china_r = pd.read_csv('../Data/china_province_population.csv')"
   ]
  },
  {
   "cell_type": "code",
   "execution_count": 22,
   "metadata": {},
   "outputs": [],
   "source": [
    "# Converting the China population to the needed format:\n",
    "pop_china2 = pop_china.groupby('admin').mean().drop(['population','population_proper'], axis=1)\n",
    "\n",
    "\n",
    "\n",
    "#pop_china2['Population'] = pop_china.groupby('admin').sum()['population_proper']\n",
    "\n",
    "new_index = ['Ch-'+str(index) for index in list(pop_china2.index)]\n",
    "pop_china2['location'] = new_index\n",
    "pop_china2 = pop_china2.set_index('location')"
   ]
  },
  {
   "cell_type": "code",
   "execution_count": 23,
   "metadata": {},
   "outputs": [],
   "source": [
    "pop_china_r = pop_china_r.set_index('location').rename(columns={'population_r':'Population'})\n",
    "pop_china2 = pop_china2.join(pop_china_r)"
   ]
  },
  {
   "cell_type": "code",
   "execution_count": 24,
   "metadata": {},
   "outputs": [
    {
     "data": {
      "text/html": [
       "<div>\n",
       "<style scoped>\n",
       "    .dataframe tbody tr th:only-of-type {\n",
       "        vertical-align: middle;\n",
       "    }\n",
       "\n",
       "    .dataframe tbody tr th {\n",
       "        vertical-align: top;\n",
       "    }\n",
       "\n",
       "    .dataframe thead th {\n",
       "        text-align: right;\n",
       "    }\n",
       "</style>\n",
       "<table border=\"1\" class=\"dataframe\">\n",
       "  <thead>\n",
       "    <tr style=\"text-align: right;\">\n",
       "      <th></th>\n",
       "      <th>L</th>\n",
       "      <th>k</th>\n",
       "      <th>a</th>\n",
       "      <th>R2</th>\n",
       "      <th>lat</th>\n",
       "      <th>lng</th>\n",
       "      <th>Population</th>\n",
       "    </tr>\n",
       "    <tr>\n",
       "      <th>location</th>\n",
       "      <th></th>\n",
       "      <th></th>\n",
       "      <th></th>\n",
       "      <th></th>\n",
       "      <th></th>\n",
       "      <th></th>\n",
       "      <th></th>\n",
       "    </tr>\n",
       "  </thead>\n",
       "  <tbody>\n",
       "    <tr>\n",
       "      <th>Ch-Hubei</th>\n",
       "      <td>67687.546968</td>\n",
       "      <td>0.235108</td>\n",
       "      <td>18.684286</td>\n",
       "      <td>0.993648</td>\n",
       "      <td>30.861038</td>\n",
       "      <td>112.745717</td>\n",
       "      <td>59020000.0</td>\n",
       "    </tr>\n",
       "    <tr>\n",
       "      <th>Italy</th>\n",
       "      <td>90000.000000</td>\n",
       "      <td>0.212550</td>\n",
       "      <td>57.724509</td>\n",
       "      <td>0.994194</td>\n",
       "      <td>NaN</td>\n",
       "      <td>NaN</td>\n",
       "      <td>NaN</td>\n",
       "    </tr>\n",
       "    <tr>\n",
       "      <th>Iran</th>\n",
       "      <td>15045.405256</td>\n",
       "      <td>0.291939</td>\n",
       "      <td>47.151187</td>\n",
       "      <td>0.995767</td>\n",
       "      <td>NaN</td>\n",
       "      <td>NaN</td>\n",
       "      <td>NaN</td>\n",
       "    </tr>\n",
       "    <tr>\n",
       "      <th>Korea, South</th>\n",
       "      <td>8059.642758</td>\n",
       "      <td>0.347919</td>\n",
       "      <td>39.519960</td>\n",
       "      <td>0.999578</td>\n",
       "      <td>NaN</td>\n",
       "      <td>NaN</td>\n",
       "      <td>NaN</td>\n",
       "    </tr>\n",
       "    <tr>\n",
       "      <th>Spain</th>\n",
       "      <td>89999.999935</td>\n",
       "      <td>0.382535</td>\n",
       "      <td>58.662683</td>\n",
       "      <td>0.982342</td>\n",
       "      <td>NaN</td>\n",
       "      <td>NaN</td>\n",
       "      <td>NaN</td>\n",
       "    </tr>\n",
       "  </tbody>\n",
       "</table>\n",
       "</div>"
      ],
      "text/plain": [
       "                         L         k          a        R2        lat  \\\n",
       "location                                                               \n",
       "Ch-Hubei      67687.546968  0.235108  18.684286  0.993648  30.861038   \n",
       "Italy         90000.000000  0.212550  57.724509  0.994194        NaN   \n",
       "Iran          15045.405256  0.291939  47.151187  0.995767        NaN   \n",
       "Korea, South   8059.642758  0.347919  39.519960  0.999578        NaN   \n",
       "Spain         89999.999935  0.382535  58.662683  0.982342        NaN   \n",
       "\n",
       "                     lng  Population  \n",
       "location                              \n",
       "Ch-Hubei      112.745717  59020000.0  \n",
       "Italy                NaN         NaN  \n",
       "Iran                 NaN         NaN  \n",
       "Korea, South         NaN         NaN  \n",
       "Spain                NaN         NaN  "
      ]
     },
     "execution_count": 24,
     "metadata": {},
     "output_type": "execute_result"
    }
   ],
   "source": [
    "params1 = res.join(pop_china2)\n",
    "params1.head()"
   ]
  },
  {
   "cell_type": "code",
   "execution_count": 67,
   "metadata": {},
   "outputs": [],
   "source": [
    "missing_lst = list(params1[params1.Population.isnull()==True].index)\n"
   ]
  },
  {
   "cell_type": "code",
   "execution_count": 87,
   "metadata": {},
   "outputs": [],
   "source": [
    "#missing_lst = ['South Korea', 'Italy', 'Iran', 'Others', 'Japan', 'Spain', 'Singapore','US', 'Hong Kong','Mexico']\n",
    "\n",
    "world_pop = pd.read_csv('../population_world.csv')\n",
    "world_pop = world_pop.rename(columns={\"Country Name\": \"location\", \"2018\": \"Population2\"}) #.set_index('location')\n",
    "\n",
    "world_loc = [{'location': i} for i in missing_lst]\n",
    "\n",
    "world_loc = pd.DataFrame(world_loc)\n",
    "\n",
    "world_pop = world_pop[world_pop['location'].isin(missing_lst)]\n",
    "world_pop = world_pop.drop(['Country Code','Indicator Name','Indicator Code'], axis=1).reset_index(drop=True)\n",
    "\n",
    "\n",
    "result = world_pop.merge(world_loc, on='location').set_index('location')"
   ]
  },
  {
   "cell_type": "code",
   "execution_count": 88,
   "metadata": {},
   "outputs": [],
   "source": [
    "params2 = params1.join(result)"
   ]
  },
  {
   "cell_type": "code",
   "execution_count": 89,
   "metadata": {},
   "outputs": [],
   "source": [
    "\n",
    "params2['Population'] = np.where(params2.Population.isnull()==True, params2.Population2,params2.Population)\n",
    "\n",
    "params2 = params2.drop(['Population2'],axis=1)\n",
    "final2 = params2.copy()\n",
    "final2 = final2.drop(['lat','lng'], axis=1)"
   ]
  },
  {
   "cell_type": "code",
   "execution_count": 113,
   "metadata": {},
   "outputs": [
    {
     "data": {
      "text/html": [
       "<div>\n",
       "<style scoped>\n",
       "    .dataframe tbody tr th:only-of-type {\n",
       "        vertical-align: middle;\n",
       "    }\n",
       "\n",
       "    .dataframe tbody tr th {\n",
       "        vertical-align: top;\n",
       "    }\n",
       "\n",
       "    .dataframe thead th {\n",
       "        text-align: right;\n",
       "    }\n",
       "</style>\n",
       "<table border=\"1\" class=\"dataframe\">\n",
       "  <thead>\n",
       "    <tr style=\"text-align: right;\">\n",
       "      <th></th>\n",
       "      <th>L</th>\n",
       "      <th>k</th>\n",
       "      <th>a</th>\n",
       "      <th>R2</th>\n",
       "      <th>Population</th>\n",
       "    </tr>\n",
       "    <tr>\n",
       "      <th>location</th>\n",
       "      <th></th>\n",
       "      <th></th>\n",
       "      <th></th>\n",
       "      <th></th>\n",
       "      <th></th>\n",
       "    </tr>\n",
       "  </thead>\n",
       "  <tbody>\n",
       "    <tr>\n",
       "      <th>Ch-Hubei</th>\n",
       "      <td>67687.546968</td>\n",
       "      <td>0.235108</td>\n",
       "      <td>18.684286</td>\n",
       "      <td>0.993648</td>\n",
       "      <td>59020000.0</td>\n",
       "    </tr>\n",
       "    <tr>\n",
       "      <th>Iran</th>\n",
       "      <td>15045.405256</td>\n",
       "      <td>0.291939</td>\n",
       "      <td>47.151187</td>\n",
       "      <td>0.995767</td>\n",
       "      <td>81800269.0</td>\n",
       "    </tr>\n",
       "    <tr>\n",
       "      <th>Korea, South</th>\n",
       "      <td>8059.642758</td>\n",
       "      <td>0.347919</td>\n",
       "      <td>39.519960</td>\n",
       "      <td>0.999578</td>\n",
       "      <td>51635256.0</td>\n",
       "    </tr>\n",
       "    <tr>\n",
       "      <th>US</th>\n",
       "      <td>10136.167027</td>\n",
       "      <td>0.322364</td>\n",
       "      <td>55.069005</td>\n",
       "      <td>0.998178</td>\n",
       "      <td>327167434.0</td>\n",
       "    </tr>\n",
       "    <tr>\n",
       "      <th>Ch-Guangdong</th>\n",
       "      <td>1344.680956</td>\n",
       "      <td>0.280511</td>\n",
       "      <td>11.710870</td>\n",
       "      <td>0.998613</td>\n",
       "      <td>113460000.0</td>\n",
       "    </tr>\n",
       "    <tr>\n",
       "      <th>Ch-Henan</th>\n",
       "      <td>1270.820106</td>\n",
       "      <td>0.282901</td>\n",
       "      <td>12.685752</td>\n",
       "      <td>0.998937</td>\n",
       "      <td>94000000.0</td>\n",
       "    </tr>\n",
       "    <tr>\n",
       "      <th>Ch-Zhejiang</th>\n",
       "      <td>1199.261309</td>\n",
       "      <td>0.315734</td>\n",
       "      <td>10.493062</td>\n",
       "      <td>0.995985</td>\n",
       "      <td>57370000.0</td>\n",
       "    </tr>\n",
       "    <tr>\n",
       "      <th>Norway</th>\n",
       "      <td>1702.037544</td>\n",
       "      <td>0.456828</td>\n",
       "      <td>50.566309</td>\n",
       "      <td>0.994203</td>\n",
       "      <td>5314336.0</td>\n",
       "    </tr>\n",
       "    <tr>\n",
       "      <th>Ch-Hunan</th>\n",
       "      <td>1017.633457</td>\n",
       "      <td>0.285612</td>\n",
       "      <td>11.904236</td>\n",
       "      <td>0.998415</td>\n",
       "      <td>67370000.0</td>\n",
       "    </tr>\n",
       "    <tr>\n",
       "      <th>Ch-Anhui</th>\n",
       "      <td>992.578638</td>\n",
       "      <td>0.281936</td>\n",
       "      <td>13.340844</td>\n",
       "      <td>0.999396</td>\n",
       "      <td>62000000.0</td>\n",
       "    </tr>\n",
       "    <tr>\n",
       "      <th>Sweden</th>\n",
       "      <td>2042.752606</td>\n",
       "      <td>0.357301</td>\n",
       "      <td>52.289752</td>\n",
       "      <td>0.998271</td>\n",
       "      <td>10183175.0</td>\n",
       "    </tr>\n",
       "    <tr>\n",
       "      <th>Netherlands</th>\n",
       "      <td>3041.083181</td>\n",
       "      <td>0.294812</td>\n",
       "      <td>54.676419</td>\n",
       "      <td>0.989896</td>\n",
       "      <td>17231017.0</td>\n",
       "    </tr>\n",
       "    <tr>\n",
       "      <th>Ch-Jiangxi</th>\n",
       "      <td>936.706570</td>\n",
       "      <td>0.295034</td>\n",
       "      <td>13.097009</td>\n",
       "      <td>0.998794</td>\n",
       "      <td>45200000.0</td>\n",
       "    </tr>\n",
       "    <tr>\n",
       "      <th>Denmark</th>\n",
       "      <td>896.708031</td>\n",
       "      <td>0.954142</td>\n",
       "      <td>49.035363</td>\n",
       "      <td>0.998395</td>\n",
       "      <td>5797446.0</td>\n",
       "    </tr>\n",
       "    <tr>\n",
       "      <th>Japan</th>\n",
       "      <td>1889.155204</td>\n",
       "      <td>0.110418</td>\n",
       "      <td>55.566277</td>\n",
       "      <td>0.997142</td>\n",
       "      <td>126529100.0</td>\n",
       "    </tr>\n",
       "    <tr>\n",
       "      <th>Ch-Shandong</th>\n",
       "      <td>773.878912</td>\n",
       "      <td>0.152469</td>\n",
       "      <td>17.359900</td>\n",
       "      <td>0.978082</td>\n",
       "      <td>100470000.0</td>\n",
       "    </tr>\n",
       "    <tr>\n",
       "      <th>Ch-Jiangsu</th>\n",
       "      <td>634.110046</td>\n",
       "      <td>0.257698</td>\n",
       "      <td>13.499203</td>\n",
       "      <td>0.997736</td>\n",
       "      <td>80400000.0</td>\n",
       "    </tr>\n",
       "    <tr>\n",
       "      <th>Ch-Chongqing</th>\n",
       "      <td>573.893761</td>\n",
       "      <td>0.243580</td>\n",
       "      <td>11.248794</td>\n",
       "      <td>0.996400</td>\n",
       "      <td>30480000.0</td>\n",
       "    </tr>\n",
       "    <tr>\n",
       "      <th>Ch-Sichuan</th>\n",
       "      <td>536.472442</td>\n",
       "      <td>0.209205</td>\n",
       "      <td>13.193008</td>\n",
       "      <td>0.995171</td>\n",
       "      <td>81100000.0</td>\n",
       "    </tr>\n",
       "    <tr>\n",
       "      <th>Ch-Heilongjiang</th>\n",
       "      <td>481.711385</td>\n",
       "      <td>0.273675</td>\n",
       "      <td>15.745905</td>\n",
       "      <td>0.998716</td>\n",
       "      <td>38310000.0</td>\n",
       "    </tr>\n",
       "    <tr>\n",
       "      <th>Ch-Beijing</th>\n",
       "      <td>416.730945</td>\n",
       "      <td>0.206684</td>\n",
       "      <td>12.146758</td>\n",
       "      <td>0.994712</td>\n",
       "      <td>21540000.0</td>\n",
       "    </tr>\n",
       "    <tr>\n",
       "      <th>Ch-Shanghai</th>\n",
       "      <td>337.980918</td>\n",
       "      <td>0.272169</td>\n",
       "      <td>10.664398</td>\n",
       "      <td>0.997443</td>\n",
       "      <td>24240000.0</td>\n",
       "    </tr>\n",
       "    <tr>\n",
       "      <th>Qatar</th>\n",
       "      <td>364.408891</td>\n",
       "      <td>1.000000</td>\n",
       "      <td>48.981200</td>\n",
       "      <td>0.960388</td>\n",
       "      <td>2781677.0</td>\n",
       "    </tr>\n",
       "    <tr>\n",
       "      <th>Ch-Hebei</th>\n",
       "      <td>318.892168</td>\n",
       "      <td>0.227759</td>\n",
       "      <td>14.918740</td>\n",
       "      <td>0.996612</td>\n",
       "      <td>74700000.0</td>\n",
       "    </tr>\n",
       "    <tr>\n",
       "      <th>Ch-Fujian</th>\n",
       "      <td>294.750667</td>\n",
       "      <td>0.260227</td>\n",
       "      <td>10.719433</td>\n",
       "      <td>0.995803</td>\n",
       "      <td>38560000.0</td>\n",
       "    </tr>\n",
       "    <tr>\n",
       "      <th>Ch-Guangxi</th>\n",
       "      <td>251.850155</td>\n",
       "      <td>0.222695</td>\n",
       "      <td>12.163899</td>\n",
       "      <td>0.998068</td>\n",
       "      <td>48380000.0</td>\n",
       "    </tr>\n",
       "    <tr>\n",
       "      <th>Ch-Shaanxi</th>\n",
       "      <td>244.567350</td>\n",
       "      <td>0.272916</td>\n",
       "      <td>11.654760</td>\n",
       "      <td>0.998212</td>\n",
       "      <td>37330000.0</td>\n",
       "    </tr>\n",
       "    <tr>\n",
       "      <th>Singapore</th>\n",
       "      <td>459.116244</td>\n",
       "      <td>0.060952</td>\n",
       "      <td>57.447269</td>\n",
       "      <td>0.958888</td>\n",
       "      <td>5638676.0</td>\n",
       "    </tr>\n",
       "    <tr>\n",
       "      <th>Bahrain</th>\n",
       "      <td>771.521611</td>\n",
       "      <td>0.167346</td>\n",
       "      <td>57.435657</td>\n",
       "      <td>0.966280</td>\n",
       "      <td>1569439.0</td>\n",
       "    </tr>\n",
       "    <tr>\n",
       "      <th>Israel</th>\n",
       "      <td>495.140723</td>\n",
       "      <td>0.279228</td>\n",
       "      <td>53.617066</td>\n",
       "      <td>0.997873</td>\n",
       "      <td>8883800.0</td>\n",
       "    </tr>\n",
       "    <tr>\n",
       "      <th>Czechia</th>\n",
       "      <td>1569.893821</td>\n",
       "      <td>0.342585</td>\n",
       "      <td>57.799364</td>\n",
       "      <td>0.991199</td>\n",
       "      <td>10625695.0</td>\n",
       "    </tr>\n",
       "    <tr>\n",
       "      <th>Slovenia</th>\n",
       "      <td>293.776198</td>\n",
       "      <td>0.640767</td>\n",
       "      <td>51.223226</td>\n",
       "      <td>0.998311</td>\n",
       "      <td>2067372.0</td>\n",
       "    </tr>\n",
       "    <tr>\n",
       "      <th>Ch-Yunnan</th>\n",
       "      <td>172.312359</td>\n",
       "      <td>0.270858</td>\n",
       "      <td>10.117381</td>\n",
       "      <td>0.988403</td>\n",
       "      <td>45970000.0</td>\n",
       "    </tr>\n",
       "    <tr>\n",
       "      <th>Ch-Hainan</th>\n",
       "      <td>169.365479</td>\n",
       "      <td>0.232514</td>\n",
       "      <td>12.565156</td>\n",
       "      <td>0.996186</td>\n",
       "      <td>9258000.0</td>\n",
       "    </tr>\n",
       "    <tr>\n",
       "      <th>Iceland</th>\n",
       "      <td>503.227966</td>\n",
       "      <td>0.235976</td>\n",
       "      <td>55.461331</td>\n",
       "      <td>0.988616</td>\n",
       "      <td>353574.0</td>\n",
       "    </tr>\n",
       "    <tr>\n",
       "      <th>Mexico</th>\n",
       "      <td>89999.999973</td>\n",
       "      <td>0.179583</td>\n",
       "      <td>98.963557</td>\n",
       "      <td>0.891339</td>\n",
       "      <td>126190788.0</td>\n",
       "    </tr>\n",
       "  </tbody>\n",
       "</table>\n",
       "</div>"
      ],
      "text/plain": [
       "                            L         k          a        R2   Population\n",
       "location                                                                 \n",
       "Ch-Hubei         67687.546968  0.235108  18.684286  0.993648   59020000.0\n",
       "Iran             15045.405256  0.291939  47.151187  0.995767   81800269.0\n",
       "Korea, South      8059.642758  0.347919  39.519960  0.999578   51635256.0\n",
       "US               10136.167027  0.322364  55.069005  0.998178  327167434.0\n",
       "Ch-Guangdong      1344.680956  0.280511  11.710870  0.998613  113460000.0\n",
       "Ch-Henan          1270.820106  0.282901  12.685752  0.998937   94000000.0\n",
       "Ch-Zhejiang       1199.261309  0.315734  10.493062  0.995985   57370000.0\n",
       "Norway            1702.037544  0.456828  50.566309  0.994203    5314336.0\n",
       "Ch-Hunan          1017.633457  0.285612  11.904236  0.998415   67370000.0\n",
       "Ch-Anhui           992.578638  0.281936  13.340844  0.999396   62000000.0\n",
       "Sweden            2042.752606  0.357301  52.289752  0.998271   10183175.0\n",
       "Netherlands       3041.083181  0.294812  54.676419  0.989896   17231017.0\n",
       "Ch-Jiangxi         936.706570  0.295034  13.097009  0.998794   45200000.0\n",
       "Denmark            896.708031  0.954142  49.035363  0.998395    5797446.0\n",
       "Japan             1889.155204  0.110418  55.566277  0.997142  126529100.0\n",
       "Ch-Shandong        773.878912  0.152469  17.359900  0.978082  100470000.0\n",
       "Ch-Jiangsu         634.110046  0.257698  13.499203  0.997736   80400000.0\n",
       "Ch-Chongqing       573.893761  0.243580  11.248794  0.996400   30480000.0\n",
       "Ch-Sichuan         536.472442  0.209205  13.193008  0.995171   81100000.0\n",
       "Ch-Heilongjiang    481.711385  0.273675  15.745905  0.998716   38310000.0\n",
       "Ch-Beijing         416.730945  0.206684  12.146758  0.994712   21540000.0\n",
       "Ch-Shanghai        337.980918  0.272169  10.664398  0.997443   24240000.0\n",
       "Qatar              364.408891  1.000000  48.981200  0.960388    2781677.0\n",
       "Ch-Hebei           318.892168  0.227759  14.918740  0.996612   74700000.0\n",
       "Ch-Fujian          294.750667  0.260227  10.719433  0.995803   38560000.0\n",
       "Ch-Guangxi         251.850155  0.222695  12.163899  0.998068   48380000.0\n",
       "Ch-Shaanxi         244.567350  0.272916  11.654760  0.998212   37330000.0\n",
       "Singapore          459.116244  0.060952  57.447269  0.958888    5638676.0\n",
       "Bahrain            771.521611  0.167346  57.435657  0.966280    1569439.0\n",
       "Israel             495.140723  0.279228  53.617066  0.997873    8883800.0\n",
       "Czechia           1569.893821  0.342585  57.799364  0.991199   10625695.0\n",
       "Slovenia           293.776198  0.640767  51.223226  0.998311    2067372.0\n",
       "Ch-Yunnan          172.312359  0.270858  10.117381  0.988403   45970000.0\n",
       "Ch-Hainan          169.365479  0.232514  12.565156  0.996186    9258000.0\n",
       "Iceland            503.227966  0.235976  55.461331  0.988616     353574.0\n",
       "Mexico           89999.999973  0.179583  98.963557  0.891339  126190788.0"
      ]
     },
     "execution_count": 113,
     "metadata": {},
     "output_type": "execute_result"
    }
   ],
   "source": [
    "results = final2[(final2.L < 89999) | (final2.Population == 126190788.0) ].drop(['Cruise Ship'])\n",
    "\n",
    "results"
   ]
  },
  {
   "cell_type": "markdown",
   "metadata": {},
   "source": [
    "# Adding Variables"
   ]
  },
  {
   "cell_type": "code",
   "execution_count": 114,
   "metadata": {},
   "outputs": [],
   "source": [
    "# Importing Variables\n",
    "data_pob = pd.read_csv('../data/compiled_metrics.csv')\n",
    "data_air = pd.read_csv('../data/quality_air_compiled.csv')\n",
    "day_det = pd.read_csv('../data/day_inf_dectectec.csv')\n",
    "data_area = pd.read_csv('../data/km2_world_all.csv')\n"
   ]
  },
  {
   "cell_type": "code",
   "execution_count": 115,
   "metadata": {},
   "outputs": [],
   "source": [
    "data_area2= data_area.set_index('location')\n",
    "data_air2 = data_air[['location_adj','Air_Pm2.5']].set_index('location_adj')\n",
    "data_pob2 = data_pob.drop('Region',axis=1).set_index('location_adj')\n",
    "day_det2 = day_det.set_index('location')"
   ]
  },
  {
   "cell_type": "code",
   "execution_count": 118,
   "metadata": {},
   "outputs": [
    {
     "data": {
      "text/html": [
       "<div>\n",
       "<style scoped>\n",
       "    .dataframe tbody tr th:only-of-type {\n",
       "        vertical-align: middle;\n",
       "    }\n",
       "\n",
       "    .dataframe tbody tr th {\n",
       "        vertical-align: top;\n",
       "    }\n",
       "\n",
       "    .dataframe thead th {\n",
       "        text-align: right;\n",
       "    }\n",
       "</style>\n",
       "<table border=\"1\" class=\"dataframe\">\n",
       "  <thead>\n",
       "    <tr style=\"text-align: right;\">\n",
       "      <th></th>\n",
       "      <th>L</th>\n",
       "      <th>k</th>\n",
       "      <th>a</th>\n",
       "      <th>R2</th>\n",
       "      <th>Population</th>\n",
       "      <th>km2</th>\n",
       "      <th>Air_Pm2.5</th>\n",
       "      <th>Male_population</th>\n",
       "      <th>Over_65</th>\n",
       "      <th>Foreign_turism</th>\n",
       "      <th>health_exp_usd</th>\n",
       "      <th>Day_inf_detected</th>\n",
       "    </tr>\n",
       "    <tr>\n",
       "      <th>location</th>\n",
       "      <th></th>\n",
       "      <th></th>\n",
       "      <th></th>\n",
       "      <th></th>\n",
       "      <th></th>\n",
       "      <th></th>\n",
       "      <th></th>\n",
       "      <th></th>\n",
       "      <th></th>\n",
       "      <th></th>\n",
       "      <th></th>\n",
       "      <th></th>\n",
       "    </tr>\n",
       "  </thead>\n",
       "  <tbody>\n",
       "    <tr>\n",
       "      <th>Ch-Hubei</th>\n",
       "      <td>67687.546968</td>\n",
       "      <td>0.235108</td>\n",
       "      <td>18.684286</td>\n",
       "      <td>0.993648</td>\n",
       "      <td>59020000.0</td>\n",
       "      <td>185900.0</td>\n",
       "      <td>59.254700</td>\n",
       "      <td>24973000.0</td>\n",
       "      <td>6059000.0</td>\n",
       "      <td>3070000.0</td>\n",
       "      <td>590.141205</td>\n",
       "      <td>1</td>\n",
       "    </tr>\n",
       "    <tr>\n",
       "      <th>Iran</th>\n",
       "      <td>15045.405256</td>\n",
       "      <td>0.291939</td>\n",
       "      <td>47.151187</td>\n",
       "      <td>0.995767</td>\n",
       "      <td>81800269.0</td>\n",
       "      <td>1648000.0</td>\n",
       "      <td>48.950000</td>\n",
       "      <td>41358928.0</td>\n",
       "      <td>5058998.0</td>\n",
       "      <td>7295000.0</td>\n",
       "      <td>1563.751678</td>\n",
       "      <td>29</td>\n",
       "    </tr>\n",
       "    <tr>\n",
       "      <th>Korea, South</th>\n",
       "      <td>8059.642758</td>\n",
       "      <td>0.347919</td>\n",
       "      <td>39.519960</td>\n",
       "      <td>0.999578</td>\n",
       "      <td>51635256.0</td>\n",
       "      <td>100210.0</td>\n",
       "      <td>25.138890</td>\n",
       "      <td>25860546.0</td>\n",
       "      <td>7445058.0</td>\n",
       "      <td>15347000.0</td>\n",
       "      <td>2711.738257</td>\n",
       "      <td>1</td>\n",
       "    </tr>\n",
       "    <tr>\n",
       "      <th>US</th>\n",
       "      <td>10136.167027</td>\n",
       "      <td>0.322364</td>\n",
       "      <td>55.069005</td>\n",
       "      <td>0.998178</td>\n",
       "      <td>327167434.0</td>\n",
       "      <td>9834000.0</td>\n",
       "      <td>7.363650</td>\n",
       "      <td>161882398.0</td>\n",
       "      <td>51717496.0</td>\n",
       "      <td>79745920.0</td>\n",
       "      <td>9869.742382</td>\n",
       "      <td>1</td>\n",
       "    </tr>\n",
       "    <tr>\n",
       "      <th>Ch-Guangdong</th>\n",
       "      <td>1344.680956</td>\n",
       "      <td>0.280511</td>\n",
       "      <td>11.710870</td>\n",
       "      <td>0.998613</td>\n",
       "      <td>113460000.0</td>\n",
       "      <td>177900.0</td>\n",
       "      <td>34.465890</td>\n",
       "      <td>50209000.0</td>\n",
       "      <td>7687000.0</td>\n",
       "      <td>8620000.0</td>\n",
       "      <td>564.806353</td>\n",
       "      <td>1</td>\n",
       "    </tr>\n",
       "    <tr>\n",
       "      <th>Ch-Henan</th>\n",
       "      <td>1270.820106</td>\n",
       "      <td>0.282901</td>\n",
       "      <td>12.685752</td>\n",
       "      <td>0.998937</td>\n",
       "      <td>94000000.0</td>\n",
       "      <td>167000.0</td>\n",
       "      <td>75.389510</td>\n",
       "      <td>39815000.0</td>\n",
       "      <td>8698000.0</td>\n",
       "      <td>1050000.0</td>\n",
       "      <td>604.848058</td>\n",
       "      <td>1</td>\n",
       "    </tr>\n",
       "    <tr>\n",
       "      <th>Ch-Zhejiang</th>\n",
       "      <td>1199.261309</td>\n",
       "      <td>0.315734</td>\n",
       "      <td>10.493062</td>\n",
       "      <td>0.995985</td>\n",
       "      <td>57370000.0</td>\n",
       "      <td>101800.0</td>\n",
       "      <td>44.766770</td>\n",
       "      <td>24418000.0</td>\n",
       "      <td>6108000.0</td>\n",
       "      <td>3230000.0</td>\n",
       "      <td>641.529018</td>\n",
       "      <td>1</td>\n",
       "    </tr>\n",
       "    <tr>\n",
       "      <th>Norway</th>\n",
       "      <td>1702.037544</td>\n",
       "      <td>0.456828</td>\n",
       "      <td>50.566309</td>\n",
       "      <td>0.994203</td>\n",
       "      <td>5314336.0</td>\n",
       "      <td>385203.0</td>\n",
       "      <td>7.045800</td>\n",
       "      <td>2682431.0</td>\n",
       "      <td>906053.0</td>\n",
       "      <td>5688000.0</td>\n",
       "      <td>6203.454703</td>\n",
       "      <td>36</td>\n",
       "    </tr>\n",
       "    <tr>\n",
       "      <th>Ch-Hunan</th>\n",
       "      <td>1017.633457</td>\n",
       "      <td>0.285612</td>\n",
       "      <td>11.904236</td>\n",
       "      <td>0.998415</td>\n",
       "      <td>67370000.0</td>\n",
       "      <td>210000.0</td>\n",
       "      <td>48.635940</td>\n",
       "      <td>28469000.0</td>\n",
       "      <td>7057000.0</td>\n",
       "      <td>1790000.0</td>\n",
       "      <td>584.367616</td>\n",
       "      <td>1</td>\n",
       "    </tr>\n",
       "    <tr>\n",
       "      <th>Ch-Anhui</th>\n",
       "      <td>992.578638</td>\n",
       "      <td>0.281936</td>\n",
       "      <td>13.340844</td>\n",
       "      <td>0.999396</td>\n",
       "      <td>62000000.0</td>\n",
       "      <td>140200.0</td>\n",
       "      <td>57.406660</td>\n",
       "      <td>26667000.0</td>\n",
       "      <td>6840000.0</td>\n",
       "      <td>2190000.0</td>\n",
       "      <td>634.060694</td>\n",
       "      <td>1</td>\n",
       "    </tr>\n",
       "    <tr>\n",
       "      <th>Sweden</th>\n",
       "      <td>2042.752606</td>\n",
       "      <td>0.357301</td>\n",
       "      <td>52.289752</td>\n",
       "      <td>0.998271</td>\n",
       "      <td>10183175.0</td>\n",
       "      <td>450295.0</td>\n",
       "      <td>6.134430</td>\n",
       "      <td>5097109.0</td>\n",
       "      <td>2046362.0</td>\n",
       "      <td>7440000.0</td>\n",
       "      <td>5386.734023</td>\n",
       "      <td>10</td>\n",
       "    </tr>\n",
       "    <tr>\n",
       "      <th>Netherlands</th>\n",
       "      <td>3041.083181</td>\n",
       "      <td>0.294812</td>\n",
       "      <td>54.676419</td>\n",
       "      <td>0.989896</td>\n",
       "      <td>17231017.0</td>\n",
       "      <td>41543.0</td>\n",
       "      <td>12.086000</td>\n",
       "      <td>8577438.0</td>\n",
       "      <td>3307699.0</td>\n",
       "      <td>18780000.0</td>\n",
       "      <td>5251.241578</td>\n",
       "      <td>37</td>\n",
       "    </tr>\n",
       "    <tr>\n",
       "      <th>Ch-Jiangxi</th>\n",
       "      <td>936.706570</td>\n",
       "      <td>0.295034</td>\n",
       "      <td>13.097009</td>\n",
       "      <td>0.998794</td>\n",
       "      <td>45200000.0</td>\n",
       "      <td>166900.0</td>\n",
       "      <td>40.196780</td>\n",
       "      <td>19579000.0</td>\n",
       "      <td>3707000.0</td>\n",
       "      <td>570000.0</td>\n",
       "      <td>618.147419</td>\n",
       "      <td>1</td>\n",
       "    </tr>\n",
       "    <tr>\n",
       "      <th>Denmark</th>\n",
       "      <td>896.708031</td>\n",
       "      <td>0.954142</td>\n",
       "      <td>49.035363</td>\n",
       "      <td>0.998395</td>\n",
       "      <td>5797446.0</td>\n",
       "      <td>42933.0</td>\n",
       "      <td>10.354310</td>\n",
       "      <td>2882826.0</td>\n",
       "      <td>1148645.0</td>\n",
       "      <td>12749000.0</td>\n",
       "      <td>5092.980309</td>\n",
       "      <td>37</td>\n",
       "    </tr>\n",
       "    <tr>\n",
       "      <th>Japan</th>\n",
       "      <td>1889.155204</td>\n",
       "      <td>0.110418</td>\n",
       "      <td>55.566277</td>\n",
       "      <td>0.997142</td>\n",
       "      <td>126529100.0</td>\n",
       "      <td>377915.0</td>\n",
       "      <td>11.861810</td>\n",
       "      <td>61797750.0</td>\n",
       "      <td>34892133.0</td>\n",
       "      <td>31192000.0</td>\n",
       "      <td>4592.428208</td>\n",
       "      <td>1</td>\n",
       "    </tr>\n",
       "    <tr>\n",
       "      <th>Ch-Shandong</th>\n",
       "      <td>773.878912</td>\n",
       "      <td>0.152469</td>\n",
       "      <td>17.359900</td>\n",
       "      <td>0.978082</td>\n",
       "      <td>100470000.0</td>\n",
       "      <td>157100.0</td>\n",
       "      <td>70.390070</td>\n",
       "      <td>41363000.0</td>\n",
       "      <td>12495000.0</td>\n",
       "      <td>3060000.0</td>\n",
       "      <td>614.240911</td>\n",
       "      <td>1</td>\n",
       "    </tr>\n",
       "    <tr>\n",
       "      <th>Ch-Jiangsu</th>\n",
       "      <td>634.110046</td>\n",
       "      <td>0.257698</td>\n",
       "      <td>13.499203</td>\n",
       "      <td>0.997736</td>\n",
       "      <td>80400000.0</td>\n",
       "      <td>102600.0</td>\n",
       "      <td>60.373650</td>\n",
       "      <td>33555000.0</td>\n",
       "      <td>9435000.0</td>\n",
       "      <td>2650000.0</td>\n",
       "      <td>652.788952</td>\n",
       "      <td>1</td>\n",
       "    </tr>\n",
       "    <tr>\n",
       "      <th>Ch-Chongqing</th>\n",
       "      <td>573.893761</td>\n",
       "      <td>0.243580</td>\n",
       "      <td>11.248794</td>\n",
       "      <td>0.996400</td>\n",
       "      <td>30480000.0</td>\n",
       "      <td>82300.0</td>\n",
       "      <td>47.553513</td>\n",
       "      <td>12730000.0</td>\n",
       "      <td>3678000.0</td>\n",
       "      <td>1590000.0</td>\n",
       "      <td>538.581046</td>\n",
       "      <td>1</td>\n",
       "    </tr>\n",
       "    <tr>\n",
       "      <th>Ch-Sichuan</th>\n",
       "      <td>536.472442</td>\n",
       "      <td>0.209205</td>\n",
       "      <td>13.193008</td>\n",
       "      <td>0.995171</td>\n",
       "      <td>81100000.0</td>\n",
       "      <td>485000.0</td>\n",
       "      <td>48.448630</td>\n",
       "      <td>33944000.0</td>\n",
       "      <td>10244000.0</td>\n",
       "      <td>2760000.0</td>\n",
       "      <td>526.287036</td>\n",
       "      <td>1</td>\n",
       "    </tr>\n",
       "    <tr>\n",
       "      <th>Ch-Heilongjiang</th>\n",
       "      <td>481.711385</td>\n",
       "      <td>0.273675</td>\n",
       "      <td>15.745905</td>\n",
       "      <td>0.998716</td>\n",
       "      <td>38310000.0</td>\n",
       "      <td>454800.0</td>\n",
       "      <td>41.351130</td>\n",
       "      <td>15697000.0</td>\n",
       "      <td>3780000.0</td>\n",
       "      <td>1040000.0</td>\n",
       "      <td>656.810357</td>\n",
       "      <td>2</td>\n",
       "    </tr>\n",
       "    <tr>\n",
       "      <th>Ch-Beijing</th>\n",
       "      <td>416.730945</td>\n",
       "      <td>0.206684</td>\n",
       "      <td>12.146758</td>\n",
       "      <td>0.994712</td>\n",
       "      <td>21540000.0</td>\n",
       "      <td>16808.0</td>\n",
       "      <td>82.858770</td>\n",
       "      <td>8781000.0</td>\n",
       "      <td>1989000.0</td>\n",
       "      <td>3400000.0</td>\n",
       "      <td>998.400000</td>\n",
       "      <td>1</td>\n",
       "    </tr>\n",
       "    <tr>\n",
       "      <th>Ch-Shanghai</th>\n",
       "      <td>337.980918</td>\n",
       "      <td>0.272169</td>\n",
       "      <td>10.664398</td>\n",
       "      <td>0.997443</td>\n",
       "      <td>24240000.0</td>\n",
       "      <td>6340.0</td>\n",
       "      <td>54.229280</td>\n",
       "      <td>10256000.0</td>\n",
       "      <td>2972000.0</td>\n",
       "      <td>6020000.0</td>\n",
       "      <td>652.990022</td>\n",
       "      <td>1</td>\n",
       "    </tr>\n",
       "    <tr>\n",
       "      <th>Qatar</th>\n",
       "      <td>364.408891</td>\n",
       "      <td>1.000000</td>\n",
       "      <td>48.981200</td>\n",
       "      <td>0.960388</td>\n",
       "      <td>2781677.0</td>\n",
       "      <td>11571.0</td>\n",
       "      <td>89.722860</td>\n",
       "      <td>2100297.0</td>\n",
       "      <td>38111.0</td>\n",
       "      <td>1819300.0</td>\n",
       "      <td>3926.121037</td>\n",
       "      <td>39</td>\n",
       "    </tr>\n",
       "    <tr>\n",
       "      <th>Ch-Hebei</th>\n",
       "      <td>318.892168</td>\n",
       "      <td>0.227759</td>\n",
       "      <td>14.918740</td>\n",
       "      <td>0.996612</td>\n",
       "      <td>74700000.0</td>\n",
       "      <td>187700.0</td>\n",
       "      <td>82.858770</td>\n",
       "      <td>31210000.0</td>\n",
       "      <td>7854000.0</td>\n",
       "      <td>750000.0</td>\n",
       "      <td>811.490834</td>\n",
       "      <td>1</td>\n",
       "    </tr>\n",
       "    <tr>\n",
       "      <th>Ch-Fujian</th>\n",
       "      <td>294.750667</td>\n",
       "      <td>0.260227</td>\n",
       "      <td>10.719433</td>\n",
       "      <td>0.995803</td>\n",
       "      <td>38560000.0</td>\n",
       "      <td>121400.0</td>\n",
       "      <td>28.853400</td>\n",
       "      <td>16806000.0</td>\n",
       "      <td>3065000.0</td>\n",
       "      <td>2180000.0</td>\n",
       "      <td>621.249646</td>\n",
       "      <td>1</td>\n",
       "    </tr>\n",
       "    <tr>\n",
       "      <th>Ch-Guangxi</th>\n",
       "      <td>251.850155</td>\n",
       "      <td>0.222695</td>\n",
       "      <td>12.163899</td>\n",
       "      <td>0.998068</td>\n",
       "      <td>48380000.0</td>\n",
       "      <td>237600.0</td>\n",
       "      <td>38.478770</td>\n",
       "      <td>20996000.0</td>\n",
       "      <td>4046000.0</td>\n",
       "      <td>2700000.0</td>\n",
       "      <td>553.000656</td>\n",
       "      <td>1</td>\n",
       "    </tr>\n",
       "    <tr>\n",
       "      <th>Ch-Shaanxi</th>\n",
       "      <td>244.567350</td>\n",
       "      <td>0.272916</td>\n",
       "      <td>11.654760</td>\n",
       "      <td>0.998212</td>\n",
       "      <td>37330000.0</td>\n",
       "      <td>205800.0</td>\n",
       "      <td>56.089480</td>\n",
       "      <td>15879000.0</td>\n",
       "      <td>3536000.0</td>\n",
       "      <td>3070000.0</td>\n",
       "      <td>457.090143</td>\n",
       "      <td>2</td>\n",
       "    </tr>\n",
       "    <tr>\n",
       "      <th>Singapore</th>\n",
       "      <td>459.116244</td>\n",
       "      <td>0.060952</td>\n",
       "      <td>57.447269</td>\n",
       "      <td>0.958888</td>\n",
       "      <td>5638676.0</td>\n",
       "      <td>721.5</td>\n",
       "      <td>19.721470</td>\n",
       "      <td>2951389.0</td>\n",
       "      <td>646383.0</td>\n",
       "      <td>14673000.0</td>\n",
       "      <td>4083.751681</td>\n",
       "      <td>2</td>\n",
       "    </tr>\n",
       "    <tr>\n",
       "      <th>Bahrain</th>\n",
       "      <td>771.521611</td>\n",
       "      <td>0.167346</td>\n",
       "      <td>57.435657</td>\n",
       "      <td>0.966280</td>\n",
       "      <td>1569439.0</td>\n",
       "      <td>765.3</td>\n",
       "      <td>69.882650</td>\n",
       "      <td>998975.0</td>\n",
       "      <td>38080.0</td>\n",
       "      <td>12045000.0</td>\n",
       "      <td>1866.297320</td>\n",
       "      <td>34</td>\n",
       "    </tr>\n",
       "    <tr>\n",
       "      <th>Israel</th>\n",
       "      <td>495.140723</td>\n",
       "      <td>0.279228</td>\n",
       "      <td>53.617066</td>\n",
       "      <td>0.997873</td>\n",
       "      <td>8883800.0</td>\n",
       "      <td>22145.0</td>\n",
       "      <td>20.811300</td>\n",
       "      <td>4415415.0</td>\n",
       "      <td>1064011.0</td>\n",
       "      <td>4121000.0</td>\n",
       "      <td>2843.044007</td>\n",
       "      <td>31</td>\n",
       "    </tr>\n",
       "    <tr>\n",
       "      <th>Czechia</th>\n",
       "      <td>1569.893821</td>\n",
       "      <td>0.342585</td>\n",
       "      <td>57.799364</td>\n",
       "      <td>0.991199</td>\n",
       "      <td>10625695.0</td>\n",
       "      <td>78865.0</td>\n",
       "      <td>16.214810</td>\n",
       "      <td>5226929.0</td>\n",
       "      <td>2063603.0</td>\n",
       "      <td>10611000.0</td>\n",
       "      <td>2484.633529</td>\n",
       "      <td>40</td>\n",
       "    </tr>\n",
       "    <tr>\n",
       "      <th>Slovenia</th>\n",
       "      <td>293.776198</td>\n",
       "      <td>0.640767</td>\n",
       "      <td>51.223226</td>\n",
       "      <td>0.998311</td>\n",
       "      <td>2067372.0</td>\n",
       "      <td>20273.0</td>\n",
       "      <td>16.254110</td>\n",
       "      <td>1028617.0</td>\n",
       "      <td>405347.0</td>\n",
       "      <td>4425000.0</td>\n",
       "      <td>2772.229776</td>\n",
       "      <td>44</td>\n",
       "    </tr>\n",
       "    <tr>\n",
       "      <th>Ch-Yunnan</th>\n",
       "      <td>172.312359</td>\n",
       "      <td>0.270858</td>\n",
       "      <td>10.117381</td>\n",
       "      <td>0.988403</td>\n",
       "      <td>45970000.0</td>\n",
       "      <td>394000.0</td>\n",
       "      <td>27.663660</td>\n",
       "      <td>20523000.0</td>\n",
       "      <td>3790000.0</td>\n",
       "      <td>5500000.0</td>\n",
       "      <td>479.638736</td>\n",
       "      <td>1</td>\n",
       "    </tr>\n",
       "    <tr>\n",
       "      <th>Ch-Hainan</th>\n",
       "      <td>169.365479</td>\n",
       "      <td>0.232514</td>\n",
       "      <td>12.565156</td>\n",
       "      <td>0.996186</td>\n",
       "      <td>9258000.0</td>\n",
       "      <td>35354.0</td>\n",
       "      <td>18.757930</td>\n",
       "      <td>3917000.0</td>\n",
       "      <td>629000.0</td>\n",
       "      <td>900000.0</td>\n",
       "      <td>541.080062</td>\n",
       "      <td>1</td>\n",
       "    </tr>\n",
       "    <tr>\n",
       "      <th>Iceland</th>\n",
       "      <td>503.227966</td>\n",
       "      <td>0.235976</td>\n",
       "      <td>55.461331</td>\n",
       "      <td>0.988616</td>\n",
       "      <td>353574.0</td>\n",
       "      <td>103000.0</td>\n",
       "      <td>6.782830</td>\n",
       "      <td>177453.0</td>\n",
       "      <td>52312.0</td>\n",
       "      <td>2343800.0</td>\n",
       "      <td>4245.108988</td>\n",
       "      <td>38</td>\n",
       "    </tr>\n",
       "    <tr>\n",
       "      <th>Mexico</th>\n",
       "      <td>89999.999973</td>\n",
       "      <td>0.179583</td>\n",
       "      <td>98.963557</td>\n",
       "      <td>0.891339</td>\n",
       "      <td>126190788.0</td>\n",
       "      <td>1973000.0</td>\n",
       "      <td>21.236150</td>\n",
       "      <td>61720822.0</td>\n",
       "      <td>9115625.0</td>\n",
       "      <td>41313000.0</td>\n",
       "      <td>971.823160</td>\n",
       "      <td>38</td>\n",
       "    </tr>\n",
       "  </tbody>\n",
       "</table>\n",
       "</div>"
      ],
      "text/plain": [
       "                            L         k          a        R2   Population  \\\n",
       "location                                                                    \n",
       "Ch-Hubei         67687.546968  0.235108  18.684286  0.993648   59020000.0   \n",
       "Iran             15045.405256  0.291939  47.151187  0.995767   81800269.0   \n",
       "Korea, South      8059.642758  0.347919  39.519960  0.999578   51635256.0   \n",
       "US               10136.167027  0.322364  55.069005  0.998178  327167434.0   \n",
       "Ch-Guangdong      1344.680956  0.280511  11.710870  0.998613  113460000.0   \n",
       "Ch-Henan          1270.820106  0.282901  12.685752  0.998937   94000000.0   \n",
       "Ch-Zhejiang       1199.261309  0.315734  10.493062  0.995985   57370000.0   \n",
       "Norway            1702.037544  0.456828  50.566309  0.994203    5314336.0   \n",
       "Ch-Hunan          1017.633457  0.285612  11.904236  0.998415   67370000.0   \n",
       "Ch-Anhui           992.578638  0.281936  13.340844  0.999396   62000000.0   \n",
       "Sweden            2042.752606  0.357301  52.289752  0.998271   10183175.0   \n",
       "Netherlands       3041.083181  0.294812  54.676419  0.989896   17231017.0   \n",
       "Ch-Jiangxi         936.706570  0.295034  13.097009  0.998794   45200000.0   \n",
       "Denmark            896.708031  0.954142  49.035363  0.998395    5797446.0   \n",
       "Japan             1889.155204  0.110418  55.566277  0.997142  126529100.0   \n",
       "Ch-Shandong        773.878912  0.152469  17.359900  0.978082  100470000.0   \n",
       "Ch-Jiangsu         634.110046  0.257698  13.499203  0.997736   80400000.0   \n",
       "Ch-Chongqing       573.893761  0.243580  11.248794  0.996400   30480000.0   \n",
       "Ch-Sichuan         536.472442  0.209205  13.193008  0.995171   81100000.0   \n",
       "Ch-Heilongjiang    481.711385  0.273675  15.745905  0.998716   38310000.0   \n",
       "Ch-Beijing         416.730945  0.206684  12.146758  0.994712   21540000.0   \n",
       "Ch-Shanghai        337.980918  0.272169  10.664398  0.997443   24240000.0   \n",
       "Qatar              364.408891  1.000000  48.981200  0.960388    2781677.0   \n",
       "Ch-Hebei           318.892168  0.227759  14.918740  0.996612   74700000.0   \n",
       "Ch-Fujian          294.750667  0.260227  10.719433  0.995803   38560000.0   \n",
       "Ch-Guangxi         251.850155  0.222695  12.163899  0.998068   48380000.0   \n",
       "Ch-Shaanxi         244.567350  0.272916  11.654760  0.998212   37330000.0   \n",
       "Singapore          459.116244  0.060952  57.447269  0.958888    5638676.0   \n",
       "Bahrain            771.521611  0.167346  57.435657  0.966280    1569439.0   \n",
       "Israel             495.140723  0.279228  53.617066  0.997873    8883800.0   \n",
       "Czechia           1569.893821  0.342585  57.799364  0.991199   10625695.0   \n",
       "Slovenia           293.776198  0.640767  51.223226  0.998311    2067372.0   \n",
       "Ch-Yunnan          172.312359  0.270858  10.117381  0.988403   45970000.0   \n",
       "Ch-Hainan          169.365479  0.232514  12.565156  0.996186    9258000.0   \n",
       "Iceland            503.227966  0.235976  55.461331  0.988616     353574.0   \n",
       "Mexico           89999.999973  0.179583  98.963557  0.891339  126190788.0   \n",
       "\n",
       "                       km2  Air_Pm2.5  Male_population     Over_65  \\\n",
       "location                                                             \n",
       "Ch-Hubei          185900.0  59.254700       24973000.0   6059000.0   \n",
       "Iran             1648000.0  48.950000       41358928.0   5058998.0   \n",
       "Korea, South      100210.0  25.138890       25860546.0   7445058.0   \n",
       "US               9834000.0   7.363650      161882398.0  51717496.0   \n",
       "Ch-Guangdong      177900.0  34.465890       50209000.0   7687000.0   \n",
       "Ch-Henan          167000.0  75.389510       39815000.0   8698000.0   \n",
       "Ch-Zhejiang       101800.0  44.766770       24418000.0   6108000.0   \n",
       "Norway            385203.0   7.045800        2682431.0    906053.0   \n",
       "Ch-Hunan          210000.0  48.635940       28469000.0   7057000.0   \n",
       "Ch-Anhui          140200.0  57.406660       26667000.0   6840000.0   \n",
       "Sweden            450295.0   6.134430        5097109.0   2046362.0   \n",
       "Netherlands        41543.0  12.086000        8577438.0   3307699.0   \n",
       "Ch-Jiangxi        166900.0  40.196780       19579000.0   3707000.0   \n",
       "Denmark            42933.0  10.354310        2882826.0   1148645.0   \n",
       "Japan             377915.0  11.861810       61797750.0  34892133.0   \n",
       "Ch-Shandong       157100.0  70.390070       41363000.0  12495000.0   \n",
       "Ch-Jiangsu        102600.0  60.373650       33555000.0   9435000.0   \n",
       "Ch-Chongqing       82300.0  47.553513       12730000.0   3678000.0   \n",
       "Ch-Sichuan        485000.0  48.448630       33944000.0  10244000.0   \n",
       "Ch-Heilongjiang   454800.0  41.351130       15697000.0   3780000.0   \n",
       "Ch-Beijing         16808.0  82.858770        8781000.0   1989000.0   \n",
       "Ch-Shanghai         6340.0  54.229280       10256000.0   2972000.0   \n",
       "Qatar              11571.0  89.722860        2100297.0     38111.0   \n",
       "Ch-Hebei          187700.0  82.858770       31210000.0   7854000.0   \n",
       "Ch-Fujian         121400.0  28.853400       16806000.0   3065000.0   \n",
       "Ch-Guangxi        237600.0  38.478770       20996000.0   4046000.0   \n",
       "Ch-Shaanxi        205800.0  56.089480       15879000.0   3536000.0   \n",
       "Singapore            721.5  19.721470        2951389.0    646383.0   \n",
       "Bahrain              765.3  69.882650         998975.0     38080.0   \n",
       "Israel             22145.0  20.811300        4415415.0   1064011.0   \n",
       "Czechia            78865.0  16.214810        5226929.0   2063603.0   \n",
       "Slovenia           20273.0  16.254110        1028617.0    405347.0   \n",
       "Ch-Yunnan         394000.0  27.663660       20523000.0   3790000.0   \n",
       "Ch-Hainan          35354.0  18.757930        3917000.0    629000.0   \n",
       "Iceland           103000.0   6.782830         177453.0     52312.0   \n",
       "Mexico           1973000.0  21.236150       61720822.0   9115625.0   \n",
       "\n",
       "                 Foreign_turism  health_exp_usd  Day_inf_detected  \n",
       "location                                                           \n",
       "Ch-Hubei              3070000.0      590.141205                 1  \n",
       "Iran                  7295000.0     1563.751678                29  \n",
       "Korea, South         15347000.0     2711.738257                 1  \n",
       "US                   79745920.0     9869.742382                 1  \n",
       "Ch-Guangdong          8620000.0      564.806353                 1  \n",
       "Ch-Henan              1050000.0      604.848058                 1  \n",
       "Ch-Zhejiang           3230000.0      641.529018                 1  \n",
       "Norway                5688000.0     6203.454703                36  \n",
       "Ch-Hunan              1790000.0      584.367616                 1  \n",
       "Ch-Anhui              2190000.0      634.060694                 1  \n",
       "Sweden                7440000.0     5386.734023                10  \n",
       "Netherlands          18780000.0     5251.241578                37  \n",
       "Ch-Jiangxi             570000.0      618.147419                 1  \n",
       "Denmark              12749000.0     5092.980309                37  \n",
       "Japan                31192000.0     4592.428208                 1  \n",
       "Ch-Shandong           3060000.0      614.240911                 1  \n",
       "Ch-Jiangsu            2650000.0      652.788952                 1  \n",
       "Ch-Chongqing          1590000.0      538.581046                 1  \n",
       "Ch-Sichuan            2760000.0      526.287036                 1  \n",
       "Ch-Heilongjiang       1040000.0      656.810357                 2  \n",
       "Ch-Beijing            3400000.0      998.400000                 1  \n",
       "Ch-Shanghai           6020000.0      652.990022                 1  \n",
       "Qatar                 1819300.0     3926.121037                39  \n",
       "Ch-Hebei               750000.0      811.490834                 1  \n",
       "Ch-Fujian             2180000.0      621.249646                 1  \n",
       "Ch-Guangxi            2700000.0      553.000656                 1  \n",
       "Ch-Shaanxi            3070000.0      457.090143                 2  \n",
       "Singapore            14673000.0     4083.751681                 2  \n",
       "Bahrain              12045000.0     1866.297320                34  \n",
       "Israel                4121000.0     2843.044007                31  \n",
       "Czechia              10611000.0     2484.633529                40  \n",
       "Slovenia              4425000.0     2772.229776                44  \n",
       "Ch-Yunnan             5500000.0      479.638736                 1  \n",
       "Ch-Hainan              900000.0      541.080062                 1  \n",
       "Iceland               2343800.0     4245.108988                38  \n",
       "Mexico               41313000.0      971.823160                38  "
      ]
     },
     "execution_count": 118,
     "metadata": {},
     "output_type": "execute_result"
    }
   ],
   "source": [
    "res4 = results.join(data_area2).join(data_air2).join(data_pob2).join(day_det2)\n",
    "res4"
   ]
  },
  {
   "cell_type": "markdown",
   "metadata": {},
   "source": [
    "# Splitting the Data"
   ]
  },
  {
   "cell_type": "code",
   "execution_count": 121,
   "metadata": {},
   "outputs": [],
   "source": [
    "# Splitting Data\n",
    "mex_row = res4.loc['Mexico']\n",
    "\n",
    "y_L = res4['L'].drop('Mexico')\n",
    "y_k = res4['k'].drop('Mexico')\n",
    "y_a = res4['a'].drop('Mexico')\n",
    "\n",
    "x_L = res4[['Population','Air_Pm2.5','Male_population','Over_65','health_exp_usd']]\n",
    "x_k = res4[['L', 'km2','Air_Pm2.5','Population','Foreign_turism','health_exp_usd','Day_inf_detected']]\n",
    "x_a = res4[['km2','Population','Day_inf_detected']]"
   ]
  },
  {
   "cell_type": "code",
   "execution_count": 120,
   "metadata": {},
   "outputs": [
    {
     "data": {
      "text/plain": [
       "L                   9.000000e+04\n",
       "k                   1.795833e-01\n",
       "a                   9.896356e+01\n",
       "R2                  8.913389e-01\n",
       "Population          1.261908e+08\n",
       "km2                 1.973000e+06\n",
       "Air_Pm2.5           2.123615e+01\n",
       "Male_population     6.172082e+07\n",
       "Over_65             9.115625e+06\n",
       "Foreign_turism      4.131300e+07\n",
       "health_exp_usd      9.718232e+02\n",
       "Day_inf_detected    3.800000e+01\n",
       "Name: Mexico, dtype: float64"
      ]
     },
     "execution_count": 120,
     "metadata": {},
     "output_type": "execute_result"
    }
   ],
   "source": [
    "mex_row"
   ]
  },
  {
   "cell_type": "code",
   "execution_count": 125,
   "metadata": {},
   "outputs": [],
   "source": [
    "from sklearn.preprocessing import MinMaxScaler\n",
    "\n",
    "scaler = MinMaxScaler()\n",
    "x_L_norm = scaler.fit_transform(x_L)\n",
    "x_k_norm = scaler.fit_transform(x_k)\n",
    "x_a_norm = scaler.fit_transform(x_a)\n",
    "\n",
    "mex_L_test = x_L_norm[-1]\n",
    "mex_k_test = x_k_norm[-1]\n",
    "mex_a_test = x_a_norm[-1]\n",
    "\n",
    "x_L_data = x_L_norm[:-1]\n",
    "x_k_data = x_k_norm[:-1]\n",
    "x_a_data = x_a_norm[:-1]"
   ]
  },
  {
   "cell_type": "markdown",
   "metadata": {},
   "source": [
    "## Generating Testing Data"
   ]
  },
  {
   "cell_type": "code",
   "execution_count": 168,
   "metadata": {},
   "outputs": [],
   "source": [
    "# Testing Data\n",
    "hubei_L_test = x_L_norm[0]\n",
    "hubei_k_test = x_k_norm[0]\n",
    "hubei_a_test = x_a_norm[0]\n",
    "\n",
    "iran_L_test = x_L_norm[1]\n",
    "iran_k_test = x_k_norm[1]\n",
    "iran_a_test = x_a_norm[1]\n",
    "\n",
    "sk_L_test = x_L_norm[2]\n",
    "sk_k_test = x_k_norm[2]\n",
    "sk_a_test = x_a_norm[2]\n",
    "\n",
    "us_L_test = x_L_norm[3]\n",
    "us_k_test = x_k_norm[3]\n",
    "us_a_test = x_a_norm[3]\n",
    "\n",
    "guangdong_L_test = x_L_norm[4]\n",
    "guangdong_k_test = x_k_norm[4]\n",
    "guangdong_a_test = x_a_norm[4]\n"
   ]
  },
  {
   "cell_type": "code",
   "execution_count": 129,
   "metadata": {},
   "outputs": [
    {
     "name": "stdout",
     "output_type": "stream",
     "text": [
      "(35,)\n",
      "(35,)\n",
      "(35,)\n",
      "(35, 5)\n",
      "(5,)\n"
     ]
    }
   ],
   "source": [
    "print(y_L.shape)\n",
    "print(y_k.shape)\n",
    "print(y_a.shape)\n",
    "\n",
    "print(x_L_data.shape)\n",
    "print(mex_L_test.shape)\n",
    "\n",
    "# Shapes OK!"
   ]
  },
  {
   "cell_type": "code",
   "execution_count": 130,
   "metadata": {},
   "outputs": [],
   "source": [
    "from sklearn.model_selection import train_test_split\n",
    "\n",
    "# Splitting for L\n",
    "X_train_L, X_test_L, y_train_L, y_test_L = train_test_split(x_L_data, y_L, test_size=0.08)\n",
    "\n",
    "# Splitting for k\n",
    "X_train_k, X_test_k, y_train_k, y_test_k = train_test_split(x_k_data, y_k, test_size=0.08)\n",
    "\n",
    "# Splitting for a\n",
    "X_train_a, X_test_a, y_train_a, y_test_a = train_test_split(x_a_data, y_a, test_size=0.08)\n"
   ]
  },
  {
   "cell_type": "code",
   "execution_count": 131,
   "metadata": {},
   "outputs": [],
   "source": [
    "# Models to Try:\n",
    "# - RandomForest\n",
    "# - LinearRegression\n",
    "# - Lasso\n",
    "# - ElasticNet\n",
    "# - RidgeRegression\n",
    "# - SVR\n",
    "# - EnsembleRegressors\n",
    "\n",
    "from sklearn.metrics import r2_score    #r2_score(y_true, y_pred)\n",
    "from sklearn.linear_model import LinearRegression\n",
    "from sklearn.linear_model import Lasso\n",
    "from sklearn.linear_model import ElasticNet\n",
    "from sklearn.linear_model import Ridge\n",
    "from sklearn.svm import SVR\n",
    "from sklearn.ensemble import RandomForestRegressor"
   ]
  },
  {
   "cell_type": "markdown",
   "metadata": {},
   "source": [
    "## Modelling for L"
   ]
  },
  {
   "cell_type": "code",
   "execution_count": 132,
   "metadata": {},
   "outputs": [
    {
     "name": "stdout",
     "output_type": "stream",
     "text": [
      "0.047652730925124565\n",
      "-282.1763606845892\n"
     ]
    }
   ],
   "source": [
    "# Linear Regression\n",
    "mod_L_linear = LinearRegression()\n",
    "mod_L_linear.fit(X_train_L, y_train_L)\n",
    "print(mod_L_linear.score(X_train_L, y_train_L))\n",
    "y_pred_L = mod_L_linear.predict(X_test_L)\n",
    "print(r2_score(y_test_L.values, y_pred_L))"
   ]
  },
  {
   "cell_type": "code",
   "execution_count": 145,
   "metadata": {},
   "outputs": [
    {
     "name": "stdout",
     "output_type": "stream",
     "text": [
      "0.7823537427523618\n",
      "-6.984514212779211\n"
     ]
    }
   ],
   "source": [
    "# Random Forest\n",
    "mod_L_ranfor = RandomForestRegressor()\n",
    "mod_L_ranfor.fit(X_train_L, y_train_L)\n",
    "print(mod_L_ranfor.score(X_train_L, y_train_L))\n",
    "y_pred_L = mod_L_ranfor.predict(X_test_L)\n",
    "print(r2_score(y_test_L.values, y_pred_L))"
   ]
  },
  {
   "cell_type": "code",
   "execution_count": 134,
   "metadata": {},
   "outputs": [
    {
     "name": "stdout",
     "output_type": "stream",
     "text": [
      "0.047157298287597293\n",
      "-258.9056108343617\n"
     ]
    },
    {
     "name": "stderr",
     "output_type": "stream",
     "text": [
      "/Library/Frameworks/Python.framework/Versions/3.7/lib/python3.7/site-packages/sklearn/linear_model/_coordinate_descent.py:476: ConvergenceWarning: Objective did not converge. You might want to increase the number of iterations. Duality gap: 283404914.9452963, tolerance: 452043.40299016365\n",
      "  positive)\n"
     ]
    }
   ],
   "source": [
    "# Lasso\n",
    "mod_L_lasso = Lasso()\n",
    "mod_L_lasso.fit(X_train_L, y_train_L)\n",
    "print(mod_L_lasso.score(X_train_L, y_train_L))\n",
    "y_pred_L = mod_L_lasso.predict(X_test_L)\n",
    "print(r2_score(y_test_L.values, y_pred_L))"
   ]
  },
  {
   "cell_type": "code",
   "execution_count": 135,
   "metadata": {},
   "outputs": [
    {
     "name": "stdout",
     "output_type": "stream",
     "text": [
      "0.008542844696668328\n",
      "-201.76531514125446\n"
     ]
    }
   ],
   "source": [
    "# ElasticNet\n",
    "mod_L_elNet = ElasticNet()\n",
    "mod_L_elNet.fit(X_train_L, y_train_L)\n",
    "print(mod_L_elNet.score(X_train_L, y_train_L))\n",
    "y_pred_L = mod_L_elNet.predict(X_test_L)\n",
    "print(r2_score(y_test_L.values, y_pred_L))"
   ]
  },
  {
   "cell_type": "code",
   "execution_count": 136,
   "metadata": {},
   "outputs": [
    {
     "name": "stdout",
     "output_type": "stream",
     "text": [
      "0.02909928894894398\n",
      "-201.20601022092336\n"
     ]
    }
   ],
   "source": [
    "#RidgeRegression\n",
    "mod_L_ridge = Ridge()\n",
    "mod_L_ridge.fit(X_train_L, y_train_L)\n",
    "print(mod_L_ridge.score(X_train_L, y_train_L))\n",
    "y_pred_L = mod_L_ridge.predict(X_test_L)\n",
    "print(r2_score(y_test_L.values, y_pred_L))"
   ]
  },
  {
   "cell_type": "code",
   "execution_count": 137,
   "metadata": {},
   "outputs": [
    {
     "name": "stdout",
     "output_type": "stream",
     "text": [
      "-0.06960256620703431\n",
      "-0.46912649439866616\n"
     ]
    }
   ],
   "source": [
    "#SVR\n",
    "mod_L_SVR = SVR()\n",
    "mod_L_SVR.fit(X_train_L, y_train_L)\n",
    "print(mod_L_SVR.score(X_train_L, y_train_L))\n",
    "y_pred_L = mod_L_SVR.predict(X_test_L)\n",
    "print(r2_score(y_test_L.values, y_pred_L))"
   ]
  },
  {
   "cell_type": "code",
   "execution_count": 146,
   "metadata": {},
   "outputs": [
    {
     "name": "stdout",
     "output_type": "stream",
     "text": [
      "[1098.59475637  449.11893257 1238.26109243]\n",
      "[416.73094512 936.70657026 495.14072265]\n"
     ]
    }
   ],
   "source": [
    "print(y_pred_L)\n",
    "print(y_test_L.values)"
   ]
  },
  {
   "cell_type": "markdown",
   "metadata": {},
   "source": [
    "## Modelling for k"
   ]
  },
  {
   "cell_type": "code",
   "execution_count": 147,
   "metadata": {},
   "outputs": [
    {
     "name": "stdout",
     "output_type": "stream",
     "text": [
      "0.3933480744303931\n",
      "0.1397811354509526\n"
     ]
    }
   ],
   "source": [
    "# Linear Regression\n",
    "mod_k_linear = LinearRegression()\n",
    "mod_k_linear.fit(X_train_k, y_train_k)\n",
    "print(mod_k_linear.score(X_train_k, y_train_k))\n",
    "y_pred_k = mod_k_linear.predict(X_test_k)\n",
    "print(r2_score(y_test_k.values, y_pred_k))"
   ]
  },
  {
   "cell_type": "code",
   "execution_count": 148,
   "metadata": {},
   "outputs": [
    {
     "name": "stdout",
     "output_type": "stream",
     "text": [
      "0.8160928735126006\n",
      "-1.3755230307262094\n"
     ]
    }
   ],
   "source": [
    "# Random Forest\n",
    "mod_k_ranfor = RandomForestRegressor()\n",
    "mod_k_ranfor.fit(X_train_k, y_train_k)\n",
    "print(mod_k_ranfor.score(X_train_k, y_train_k))\n",
    "y_pred_k = mod_k_ranfor.predict(X_test_k)\n",
    "print(r2_score(y_test_k.values, y_pred_k))"
   ]
  },
  {
   "cell_type": "code",
   "execution_count": 149,
   "metadata": {},
   "outputs": [
    {
     "name": "stdout",
     "output_type": "stream",
     "text": [
      "0.0\n",
      "-1.1234565560228318\n"
     ]
    }
   ],
   "source": [
    "# Lasso\n",
    "mod_k_lasso = Lasso()\n",
    "mod_k_lasso.fit(X_train_k, y_train_k)\n",
    "print(mod_k_lasso.score(X_train_k, y_train_k))\n",
    "y_pred_k = mod_k_lasso.predict(X_test_k)\n",
    "print(r2_score(y_test_k.values, y_pred_k))"
   ]
  },
  {
   "cell_type": "code",
   "execution_count": 150,
   "metadata": {},
   "outputs": [
    {
     "name": "stdout",
     "output_type": "stream",
     "text": [
      "0.5252147802143607\n",
      "-1.8673345981086276\n"
     ]
    }
   ],
   "source": [
    "#SVR\n",
    "mod_k_SVR = SVR()\n",
    "mod_k_SVR.fit(X_train_k, y_train_k)\n",
    "print(mod_k_SVR.score(X_train_k, y_train_k))\n",
    "y_pred_k = mod_k_SVR.predict(X_test_k)\n",
    "print(r2_score(y_test_k.values, y_pred_k))"
   ]
  },
  {
   "cell_type": "code",
   "execution_count": 151,
   "metadata": {},
   "outputs": [
    {
     "name": "stdout",
     "output_type": "stream",
     "text": [
      "[0.24136237 0.34932721 0.24062376]\n",
      "[0.28561152 0.11041832 0.29503381]\n"
     ]
    }
   ],
   "source": [
    "print(y_pred_k)\n",
    "print(y_test_k.values)"
   ]
  },
  {
   "cell_type": "markdown",
   "metadata": {},
   "source": [
    "## Modelling for a"
   ]
  },
  {
   "cell_type": "code",
   "execution_count": 153,
   "metadata": {},
   "outputs": [
    {
     "name": "stdout",
     "output_type": "stream",
     "text": [
      "0.6344468572131748\n",
      "-17.307378400275507\n"
     ]
    }
   ],
   "source": [
    "# Linear Regression\n",
    "mod_a_linear = LinearRegression()\n",
    "mod_a_linear.fit(X_train_a, y_train_a)\n",
    "print(mod_a_linear.score(X_train_a, y_train_a))\n",
    "y_pred_a = mod_a_linear.predict(X_test_a)\n",
    "print(r2_score(y_test_a.values, y_pred_a))"
   ]
  },
  {
   "cell_type": "code",
   "execution_count": 157,
   "metadata": {},
   "outputs": [
    {
     "name": "stdout",
     "output_type": "stream",
     "text": [
      "0.9303308858735413\n",
      "-37.069701209439096\n"
     ]
    }
   ],
   "source": [
    "# Random Forest\n",
    "mod_a_ranfor = RandomForestRegressor()\n",
    "mod_a_ranfor.fit(X_train_a, y_train_a)\n",
    "print(mod_a_ranfor.score(X_train_a, y_train_a))\n",
    "y_pred_a = mod_a_ranfor.predict(X_test_a)\n",
    "print(r2_score(y_test_a.values, y_pred_a))"
   ]
  },
  {
   "cell_type": "code",
   "execution_count": 155,
   "metadata": {},
   "outputs": [
    {
     "name": "stdout",
     "output_type": "stream",
     "text": [
      "0.5238466471708187\n",
      "-32.05834955055349\n"
     ]
    }
   ],
   "source": [
    "# Lasso\n",
    "mod_a_lasso = Lasso()\n",
    "mod_a_lasso.fit(X_train_a, y_train_a)\n",
    "print(mod_a_lasso.score(X_train_a, y_train_a))\n",
    "y_pred_a = mod_a_lasso.predict(X_test_a)\n",
    "print(r2_score(y_test_a.values, y_pred_a))"
   ]
  },
  {
   "cell_type": "code",
   "execution_count": 156,
   "metadata": {},
   "outputs": [
    {
     "name": "stdout",
     "output_type": "stream",
     "text": [
      "0.3729241548437643\n",
      "-8.968130047584433\n"
     ]
    }
   ],
   "source": [
    "#SVR\n",
    "mod_a_SVR = SVR()\n",
    "mod_a_SVR.fit(X_train_a, y_train_a)\n",
    "print(mod_a_SVR.score(X_train_a, y_train_a))\n",
    "y_pred_a = mod_a_SVR.predict(X_test_a)\n",
    "print(r2_score(y_test_a.values, y_pred_a))"
   ]
  },
  {
   "cell_type": "code",
   "execution_count": 158,
   "metadata": {},
   "outputs": [
    {
     "name": "stdout",
     "output_type": "stream",
     "text": [
      "[28.35235725 17.34227333 21.98160316]\n",
      "[11.71087023 12.68575157 15.74590533]\n"
     ]
    }
   ],
   "source": [
    "print(y_pred_a)\n",
    "print(y_test_a.values)"
   ]
  },
  {
   "cell_type": "markdown",
   "metadata": {},
   "source": [
    "# Getting Values for Mexico"
   ]
  },
  {
   "cell_type": "code",
   "execution_count": 159,
   "metadata": {},
   "outputs": [],
   "source": [
    "mex_pred_L = mod_L_ranfor.predict([mex_L_test])\n",
    "mex_pred_k = mod_k_ranfor.predict([mex_k_test])\n",
    "mex_pred_a = mod_a_ranfor.predict([mex_a_test])\n"
   ]
  },
  {
   "cell_type": "code",
   "execution_count": 165,
   "metadata": {},
   "outputs": [
    {
     "data": {
      "text/plain": [
       "[<matplotlib.lines.Line2D at 0x1231f94e0>]"
      ]
     },
     "execution_count": 165,
     "metadata": {},
     "output_type": "execute_result"
    },
    {
     "data": {
      "image/png": "[encoded data removed]",
      "text/plain": [
       "<Figure size 720x576 with 1 Axes>"
      ]
     },
     "metadata": {
      "needs_background": "light"
     },
     "output_type": "display_data"
    }
   ],
   "source": [
    "def func(x, L, k, a):\n",
    "    return L/(1 + np.exp(-k*(x-a)))\n",
    "\n",
    "conf_ts = pd.read_csv('conf_ts.csv')\n",
    "\n",
    "x1 = np.arange(len(conf_ts['Korea, South']))\n",
    "x2 = np.arange(100)\n",
    "fig = plt.figure(figsize=(10,8))\n",
    "plt.scatter(x1, conf_ts.Mexico)\n",
    "plt.plot(x2, func(x2, mex_pred_L, mex_pred_k, mex_pred_a), 'r-')\n"
   ]
  },
  {
   "cell_type": "markdown",
   "metadata": {},
   "source": [
    "# Testing for other countries"
   ]
  },
  {
   "cell_type": "code",
   "execution_count": 175,
   "metadata": {},
   "outputs": [],
   "source": [
    "hubei_pred_L = mod_L_ranfor.predict([hubei_L_test])\n",
    "hubei_pred_k = mod_k_ranfor.predict([hubei_k_test])\n",
    "hubei_pred_a = mod_a_linear.predict([hubei_a_test])\n",
    "\n",
    "iran_pred_L = mod_L_ranfor.predict([iran_L_test])\n",
    "iran_pred_k = mod_k_ranfor.predict([iran_k_test])\n",
    "iran_pred_a = mod_a_linear.predict([iran_a_test])\n",
    "\n",
    "sk_pred_L = mod_L_ranfor.predict([sk_L_test])\n",
    "sk_pred_k = mod_k_ranfor.predict([sk_k_test])\n",
    "sk_pred_a = mod_a_linear.predict([sk_a_test])\n",
    "\n",
    "us_pred_L = mod_L_ranfor.predict([us_L_test])\n",
    "us_pred_k = mod_k_ranfor.predict([us_k_test])\n",
    "us_pred_a = mod_a_linear.predict([us_a_test])\n",
    "\n",
    "guangdong_pred_L = mod_L_ranfor.predict([guangdong_L_test])\n",
    "guangdong_pred_k = mod_k_ranfor.predict([guangdong_k_test])\n",
    "guangdong_pred_a = mod_a_linear.predict([guangdong_a_test])"
   ]
  },
  {
   "cell_type": "markdown",
   "metadata": {},
   "source": [
    "## Testing Hubei"
   ]
  },
  {
   "cell_type": "code",
   "execution_count": 177,
   "metadata": {},
   "outputs": [
    {
     "data": {
      "text/plain": [
       "[<matplotlib.lines.Line2D at 0x123a0dd68>]"
      ]
     },
     "execution_count": 177,
     "metadata": {},
     "output_type": "execute_result"
    },
    {
     "data": {
      "image/png": "[encoded data removed]",
      "text/plain": [
       "<Figure size 432x288 with 1 Axes>"
      ]
     },
     "metadata": {
      "needs_background": "light"
     },
     "output_type": "display_data"
    }
   ],
   "source": [
    "x1 = np.arange(len(conf_ts['Mexico']))\n",
    "x2 = np.arange(100)\n",
    "plt.scatter(x1, conf_ts['Ch-Hubei'])\n",
    "plt.plot(x2, func(x2, hubei_pred_L, hubei_pred_k, hubei_pred_a), 'r-')"
   ]
  },
  {
   "cell_type": "markdown",
   "metadata": {},
   "source": [
    "## Testing Iran"
   ]
  },
  {
   "cell_type": "code",
   "execution_count": 178,
   "metadata": {},
   "outputs": [
    {
     "data": {
      "text/plain": [
       "[<matplotlib.lines.Line2D at 0x1238c9eb8>]"
      ]
     },
     "execution_count": 178,
     "metadata": {},
     "output_type": "execute_result"
    },
    {
     "data": {
      "image/png": "[encoded data removed]",
      "text/plain": [
       "<Figure size 432x288 with 1 Axes>"
      ]
     },
     "metadata": {
      "needs_background": "light"
     },
     "output_type": "display_data"
    }
   ],
   "source": [
    "x1 = np.arange(len(conf_ts['Mexico']))\n",
    "x2 = np.arange(100)\n",
    "plt.scatter(x1, conf_ts['Iran'])\n",
    "plt.plot(x2, func(x2, iran_pred_L, iran_pred_k, iran_pred_a), 'r-')"
   ]
  },
  {
   "cell_type": "markdown",
   "metadata": {},
   "source": [
    "## Testing South Korea"
   ]
  },
  {
   "cell_type": "code",
   "execution_count": 182,
   "metadata": {},
   "outputs": [
    {
     "data": {
      "text/plain": [
       "[<matplotlib.lines.Line2D at 0x123e3df60>]"
      ]
     },
     "execution_count": 182,
     "metadata": {},
     "output_type": "execute_result"
    },
    {
     "data": {
      "image/png": "[encoded data removed]",
      "text/plain": [
       "<Figure size 432x288 with 1 Axes>"
      ]
     },
     "metadata": {
      "needs_background": "light"
     },
     "output_type": "display_data"
    }
   ],
   "source": [
    "x1 = np.arange(len(conf_ts['Mexico']))\n",
    "x2 = np.arange(100)\n",
    "plt.scatter(x1, conf_ts['Korea, South'])\n",
    "plt.plot(x2, func(x2, sk_pred_L, sk_pred_k, sk_pred_a), 'r-')"
   ]
  },
  {
   "cell_type": "markdown",
   "metadata": {},
   "source": [
    "## Testing US"
   ]
  },
  {
   "cell_type": "code",
   "execution_count": 183,
   "metadata": {},
   "outputs": [
    {
     "data": {
      "text/plain": [
       "[<matplotlib.lines.Line2D at 0x123f17208>]"
      ]
     },
     "execution_count": 183,
     "metadata": {},
     "output_type": "execute_result"
    },
    {
     "data": {
      "image/png": "[encoded data removed]",
      "text/plain": [
       "<Figure size 432x288 with 1 Axes>"
      ]
     },
     "metadata": {
      "needs_background": "light"
     },
     "output_type": "display_data"
    }
   ],
   "source": [
    "x1 = np.arange(len(conf_ts['Mexico']))\n",
    "x2 = np.arange(100)\n",
    "plt.scatter(x1, conf_ts['US'])\n",
    "plt.plot(x2, func(x2, us_pred_L, us_pred_k, us_pred_a), 'r-')"
   ]
  },
  {
   "cell_type": "markdown",
   "metadata": {},
   "source": [
    "## Testing Guangdong"
   ]
  },
  {
   "cell_type": "code",
   "execution_count": 184,
   "metadata": {},
   "outputs": [
    {
     "data": {
      "text/plain": [
       "[<matplotlib.lines.Line2D at 0x123fd49e8>]"
      ]
     },
     "execution_count": 184,
     "metadata": {},
     "output_type": "execute_result"
    },
    {
     "data": {
      "image/png": "[encoded data removed]",
      "text/plain": [
       "<Figure size 432x288 with 1 Axes>"
      ]
     },
     "metadata": {
      "needs_background": "light"
     },
     "output_type": "display_data"
    }
   ],
   "source": [
    "x1 = np.arange(len(conf_ts['Mexico']))\n",
    "x2 = np.arange(100)\n",
    "plt.scatter(x1, conf_ts['Ch-Guangdong'])\n",
    "plt.plot(x2, func(x2, guangdong_pred_L, guangdong_pred_k, guangdong_pred_a), 'r-')"
   ]
  },
  {
   "cell_type": "code",
   "execution_count": null,
   "metadata": {},
   "outputs": [],
   "source": []
  }
 ],
 "metadata": {
  "kernelspec": {
   "display_name": "Python 3",
   "language": "python",
   "name": "python3"
  },
  "language_info": {
   "codemirror_mode": {
    "name": "ipython",
    "version": 3
   },
   "file_extension": ".py",
   "mimetype": "text/x-python",
   "name": "python",
   "nbconvert_exporter": "python",
   "pygments_lexer": "ipython3",
   "version": "3.7.3"
  }
 },
 "nbformat": 4,
 "nbformat_minor": 2
}
