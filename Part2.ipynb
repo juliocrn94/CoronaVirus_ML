{
 "cells": [
  {
   "cell_type": "markdown",
   "metadata": {},
   "source": [
    "# Part 2"
   ]
  },
  {
   "cell_type": "code",
   "execution_count": 1,
   "metadata": {},
   "outputs": [],
   "source": [
    "import pandas as pd\n",
    "import numpy as np\n",
    "import matplotlib.pyplot as plt\n"
   ]
  },
  {
   "cell_type": "code",
   "execution_count": 16,
   "metadata": {},
   "outputs": [],
   "source": [
    "res = pd.read_csv('final_1.csv')\n",
    "pop_china = pd.read_csv('Chinese_City_Population.csv')\n",
    "res = res.set_index('location')\n",
    "pop_china_r = pd.read_csv('./Data/china_province_population.csv')"
   ]
  },
  {
   "cell_type": "code",
   "execution_count": 17,
   "metadata": {},
   "outputs": [],
   "source": [
    "# Converting the China population to the needed format:\n",
    "pop_china2 = pop_china.groupby('admin').mean().drop(['population','population_proper'], axis=1)\n",
    "\n",
    "\n",
    "\n",
    "#pop_china2['Population'] = pop_china.groupby('admin').sum()['population_proper']\n",
    "\n",
    "new_index = ['Ch-'+str(index) for index in list(pop_china2.index)]\n",
    "pop_china2['location'] = new_index\n",
    "pop_china2 = pop_china2.set_index('location')"
   ]
  },
  {
   "cell_type": "code",
   "execution_count": 14,
   "metadata": {},
   "outputs": [
    {
     "data": {
      "text/html": [
       "<div>\n",
       "<style scoped>\n",
       "    .dataframe tbody tr th:only-of-type {\n",
       "        vertical-align: middle;\n",
       "    }\n",
       "\n",
       "    .dataframe tbody tr th {\n",
       "        vertical-align: top;\n",
       "    }\n",
       "\n",
       "    .dataframe thead th {\n",
       "        text-align: right;\n",
       "    }\n",
       "</style>\n",
       "<table border=\"1\" class=\"dataframe\">\n",
       "  <thead>\n",
       "    <tr style=\"text-align: right;\">\n",
       "      <th></th>\n",
       "      <th>lat</th>\n",
       "      <th>lng</th>\n",
       "    </tr>\n",
       "    <tr>\n",
       "      <th>location</th>\n",
       "      <th></th>\n",
       "      <th></th>\n",
       "    </tr>\n",
       "  </thead>\n",
       "  <tbody>\n",
       "    <tr>\n",
       "      <th>Ch-Anhui</th>\n",
       "      <td>31.771152</td>\n",
       "      <td>117.422202</td>\n",
       "    </tr>\n",
       "    <tr>\n",
       "      <th>Ch-Beijing</th>\n",
       "      <td>40.031108</td>\n",
       "      <td>116.402584</td>\n",
       "    </tr>\n",
       "    <tr>\n",
       "      <th>Ch-Chongqing</th>\n",
       "      <td>29.905330</td>\n",
       "      <td>107.341795</td>\n",
       "    </tr>\n",
       "    <tr>\n",
       "      <th>Ch-Fujian</th>\n",
       "      <td>25.808882</td>\n",
       "      <td>118.126051</td>\n",
       "    </tr>\n",
       "    <tr>\n",
       "      <th>Ch-Gansu</th>\n",
       "      <td>36.401563</td>\n",
       "      <td>103.208470</td>\n",
       "    </tr>\n",
       "  </tbody>\n",
       "</table>\n",
       "</div>"
      ],
      "text/plain": [
       "                    lat         lng\n",
       "location                           \n",
       "Ch-Anhui      31.771152  117.422202\n",
       "Ch-Beijing    40.031108  116.402584\n",
       "Ch-Chongqing  29.905330  107.341795\n",
       "Ch-Fujian     25.808882  118.126051\n",
       "Ch-Gansu      36.401563  103.208470"
      ]
     },
     "execution_count": 14,
     "metadata": {},
     "output_type": "execute_result"
    }
   ],
   "source": [
    "pop_china2.head()"
   ]
  },
  {
   "cell_type": "code",
   "execution_count": 15,
   "metadata": {},
   "outputs": [
    {
     "ename": "KeyError",
     "evalue": "\"None of ['location'] are in the columns\"",
     "output_type": "error",
     "traceback": [
      "\u001b[0;31m---------------------------------------------------------------------------\u001b[0m",
      "\u001b[0;31mKeyError\u001b[0m                                  Traceback (most recent call last)",
      "\u001b[0;32m<ipython-input-15-1ddf07c3326b>\u001b[0m in \u001b[0;36m<module>\u001b[0;34m\u001b[0m\n\u001b[0;32m----> 1\u001b[0;31m \u001b[0mpop_china_recent\u001b[0m \u001b[0;34m=\u001b[0m \u001b[0mpop_china_recent\u001b[0m\u001b[0;34m.\u001b[0m\u001b[0mset_index\u001b[0m\u001b[0;34m(\u001b[0m\u001b[0;34m'location'\u001b[0m\u001b[0;34m)\u001b[0m\u001b[0;34m\u001b[0m\u001b[0;34m\u001b[0m\u001b[0m\n\u001b[0m\u001b[1;32m      2\u001b[0m \u001b[0mpop_china_recent\u001b[0m\u001b[0;34m.\u001b[0m\u001b[0mhead\u001b[0m\u001b[0;34m(\u001b[0m\u001b[0;34m)\u001b[0m\u001b[0;34m\u001b[0m\u001b[0;34m\u001b[0m\u001b[0m\n",
      "\u001b[0;32m/Library/Frameworks/Python.framework/Versions/3.7/lib/python3.7/site-packages/pandas/core/frame.py\u001b[0m in \u001b[0;36mset_index\u001b[0;34m(self, keys, drop, append, inplace, verify_integrity)\u001b[0m\n\u001b[1;32m   4301\u001b[0m \u001b[0;34m\u001b[0m\u001b[0m\n\u001b[1;32m   4302\u001b[0m         \u001b[0;32mif\u001b[0m \u001b[0mmissing\u001b[0m\u001b[0;34m:\u001b[0m\u001b[0;34m\u001b[0m\u001b[0;34m\u001b[0m\u001b[0m\n\u001b[0;32m-> 4303\u001b[0;31m             \u001b[0;32mraise\u001b[0m \u001b[0mKeyError\u001b[0m\u001b[0;34m(\u001b[0m\u001b[0;34mf\"None of {missing} are in the columns\"\u001b[0m\u001b[0;34m)\u001b[0m\u001b[0;34m\u001b[0m\u001b[0;34m\u001b[0m\u001b[0m\n\u001b[0m\u001b[1;32m   4304\u001b[0m \u001b[0;34m\u001b[0m\u001b[0m\n\u001b[1;32m   4305\u001b[0m         \u001b[0;32mif\u001b[0m \u001b[0minplace\u001b[0m\u001b[0;34m:\u001b[0m\u001b[0;34m\u001b[0m\u001b[0;34m\u001b[0m\u001b[0m\n",
      "\u001b[0;31mKeyError\u001b[0m: \"None of ['location'] are in the columns\""
     ]
    }
   ],
   "source": [
    "pop_china_recent = pop_china_recent.set_index('location')\n",
    "pop_china_recent.head()"
   ]
  },
  {
   "cell_type": "markdown",
   "metadata": {},
   "source": [
    "# joining the tables"
   ]
  },
  {
   "cell_type": "code",
   "execution_count": null,
   "metadata": {},
   "outputs": [],
   "source": [
    "params1 = res.join(pop_china2)\n",
    "params1"
   ]
  },
  {
   "cell_type": "code",
   "execution_count": null,
   "metadata": {},
   "outputs": [],
   "source": [
    "missing_lst = ['South Korea', 'Italy', 'Iran', 'Others', 'Japan', 'Spain', 'Singapore','US', 'Hong Kong','Mexico']\n",
    "\n",
    "world_pop = pd.read_csv('population_world.csv')\n",
    "world_pop = world_pop.rename(columns={\"Country Name\": \"location\", \"2018\": \"Population2\"}) #.set_index('location')\n",
    "\n",
    "world_loc = [{'location':'South Korea', 'lat2': 35.907757, 'long2':127.766922},\n",
    "             {'location':'Italy', 'lat2': 41.871941, 'long2':12.567380},\n",
    "             {'location':'Iran', 'lat2': 32.427910, 'long2':53.688046},\n",
    "             {'location':'Japan', 'lat2': 36.204823, 'long2':138.252930},\n",
    "             {'location':'Spain', 'lat2': 40.463669, 'long2':-3.749220},\n",
    "             {'location':'Singapore', 'lat2': 1.352083, 'long2':103.819839},\n",
    "             {'location':'US', 'lat2': 37.090240, 'long2':-95.712891},\n",
    "             {'location':'Hong Kong', 'lat2': 22.396427, 'long2':114.109497},\n",
    "             {'location':'Mexico', 'lat2': 23.634501, 'long2':-102.552788}]\n",
    "\n",
    "world_loc = pd.DataFrame(world_loc)\n",
    "\n",
    "world_pop = world_pop[world_pop['location'].isin(missing_lst)]\n",
    "world_pop = world_pop.drop(['Country Code','Indicator Name','Indicator Code'], axis=1).reset_index(drop=True)\n",
    "\n",
    "\n",
    "result = world_pop.merge(world_loc, on='location').set_index('location')\n",
    "\n",
    "result"
   ]
  },
  {
   "cell_type": "code",
   "execution_count": null,
   "metadata": {},
   "outputs": [],
   "source": [
    "params2 = params1.join(result)\n"
   ]
  },
  {
   "cell_type": "code",
   "execution_count": null,
   "metadata": {},
   "outputs": [],
   "source": [
    "params2['lat'] = np.where(params2.lat.isnull()==True, params2.lat2,params2.lat)\n",
    "params2['lng'] = np.where(params2.lng.isnull()==True, params2.long2,params2.lat)\n",
    "params2['Population'] = np.where(params2.Population.isnull()==True, params2.Population2,params2.lat)\n",
    "\n",
    "params2 = params2.drop(['Population2','lat2','long2'],axis=1)\n",
    "final2 = params2.copy()"
   ]
  },
  {
   "cell_type": "code",
   "execution_count": null,
   "metadata": {},
   "outputs": [],
   "source": [
    "final2"
   ]
  },
  {
   "cell_type": "code",
   "execution_count": null,
   "metadata": {},
   "outputs": [],
   "source": [
    "final2.to_csv('final_2.csv')"
   ]
  },
  {
   "cell_type": "code",
   "execution_count": null,
   "metadata": {},
   "outputs": [],
   "source": [
    "print(list(final2.index))"
   ]
  },
  {
   "cell_type": "code",
   "execution_count": null,
   "metadata": {},
   "outputs": [],
   "source": []
  }
 ],
 "metadata": {
  "kernelspec": {
   "display_name": "Python 3",
   "language": "python",
   "name": "python3"
  },
  "language_info": {
   "codemirror_mode": {
    "name": "ipython",
    "version": 3
   },
   "file_extension": ".py",
   "mimetype": "text/x-python",
   "name": "python",
   "nbconvert_exporter": "python",
   "pygments_lexer": "ipython3",
   "version": "3.7.3"
  }
 },
 "nbformat": 4,
 "nbformat_minor": 2
}
