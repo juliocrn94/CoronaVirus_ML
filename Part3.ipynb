{
 "cells": [
  {
   "cell_type": "markdown",
   "metadata": {},
   "source": [
    "# Part 3"
   ]
  },
  {
   "cell_type": "code",
   "execution_count": 1,
   "metadata": {},
   "outputs": [],
   "source": [
    "# import modules & libraries\n",
    "import pandas as pd\n",
    "import numpy as np\n",
    "import matplotlib.pyplot as plt\n",
    "\n"
   ]
  },
  {
   "cell_type": "code",
   "execution_count": 2,
   "metadata": {},
   "outputs": [],
   "source": [
    "# importing prev dataset generated and Variables data\n",
    "\n",
    "results = pd.read_csv('final_2.csv')\n",
    "data_pob = pd.read_csv('./data/compiled_metrics.csv')\n",
    "data_air = pd.read_csv('./data/quality_air_compiled.csv')\n"
   ]
  },
  {
   "cell_type": "code",
   "execution_count": 8,
   "metadata": {},
   "outputs": [
    {
     "data": {
      "text/html": [
       "<div>\n",
       "<style scoped>\n",
       "    .dataframe tbody tr th:only-of-type {\n",
       "        vertical-align: middle;\n",
       "    }\n",
       "\n",
       "    .dataframe tbody tr th {\n",
       "        vertical-align: top;\n",
       "    }\n",
       "\n",
       "    .dataframe thead th {\n",
       "        text-align: right;\n",
       "    }\n",
       "</style>\n",
       "<table border=\"1\" class=\"dataframe\">\n",
       "  <thead>\n",
       "    <tr style=\"text-align: right;\">\n",
       "      <th></th>\n",
       "      <th>location</th>\n",
       "      <th>L</th>\n",
       "      <th>k</th>\n",
       "      <th>a</th>\n",
       "      <th>R2</th>\n",
       "      <th>lat</th>\n",
       "      <th>lng</th>\n",
       "      <th>Population</th>\n",
       "    </tr>\n",
       "  </thead>\n",
       "  <tbody>\n",
       "    <tr>\n",
       "      <th>0</th>\n",
       "      <td>Ch-Hubei</td>\n",
       "      <td>67562.580571</td>\n",
       "      <td>0.235976</td>\n",
       "      <td>18.661716</td>\n",
       "      <td>0.991812</td>\n",
       "      <td>30.861038</td>\n",
       "      <td>30.861038</td>\n",
       "      <td>3.086104e+01</td>\n",
       "    </tr>\n",
       "    <tr>\n",
       "      <th>1</th>\n",
       "      <td>South Korea</td>\n",
       "      <td>7957.233018</td>\n",
       "      <td>0.364160</td>\n",
       "      <td>39.352108</td>\n",
       "      <td>0.998540</td>\n",
       "      <td>35.907757</td>\n",
       "      <td>127.766922</td>\n",
       "      <td>5.163526e+07</td>\n",
       "    </tr>\n",
       "    <tr>\n",
       "      <th>2</th>\n",
       "      <td>Italy</td>\n",
       "      <td>4362.750134</td>\n",
       "      <td>0.414286</td>\n",
       "      <td>40.282996</td>\n",
       "      <td>0.998386</td>\n",
       "      <td>41.871941</td>\n",
       "      <td>12.567380</td>\n",
       "      <td>6.043128e+07</td>\n",
       "    </tr>\n",
       "    <tr>\n",
       "      <th>3</th>\n",
       "      <td>Iran</td>\n",
       "      <td>25663.054068</td>\n",
       "      <td>0.472030</td>\n",
       "      <td>45.876146</td>\n",
       "      <td>0.999896</td>\n",
       "      <td>32.427910</td>\n",
       "      <td>53.688046</td>\n",
       "      <td>8.180027e+07</td>\n",
       "    </tr>\n",
       "    <tr>\n",
       "      <th>4</th>\n",
       "      <td>Ch-Guangdong</td>\n",
       "      <td>1338.801164</td>\n",
       "      <td>0.283629</td>\n",
       "      <td>11.662214</td>\n",
       "      <td>0.998553</td>\n",
       "      <td>22.993891</td>\n",
       "      <td>22.993891</td>\n",
       "      <td>2.299389e+01</td>\n",
       "    </tr>\n",
       "  </tbody>\n",
       "</table>\n",
       "</div>"
      ],
      "text/plain": [
       "       location             L         k          a        R2        lat  \\\n",
       "0      Ch-Hubei  67562.580571  0.235976  18.661716  0.991812  30.861038   \n",
       "1   South Korea   7957.233018  0.364160  39.352108  0.998540  35.907757   \n",
       "2         Italy   4362.750134  0.414286  40.282996  0.998386  41.871941   \n",
       "3          Iran  25663.054068  0.472030  45.876146  0.999896  32.427910   \n",
       "4  Ch-Guangdong   1338.801164  0.283629  11.662214  0.998553  22.993891   \n",
       "\n",
       "          lng    Population  \n",
       "0   30.861038  3.086104e+01  \n",
       "1  127.766922  5.163526e+07  \n",
       "2   12.567380  6.043128e+07  \n",
       "3   53.688046  8.180027e+07  \n",
       "4   22.993891  2.299389e+01  "
      ]
     },
     "execution_count": 8,
     "metadata": {},
     "output_type": "execute_result"
    }
   ],
   "source": [
    "# Checking Datasets\n",
    "\n",
    "results.iloc\n",
    "#data_pob\n",
    "#data_air"
   ]
  },
  {
   "cell_type": "code",
   "execution_count": null,
   "metadata": {},
   "outputs": [],
   "source": []
  }
 ],
 "metadata": {
  "kernelspec": {
   "display_name": "Python 3",
   "language": "python",
   "name": "python3"
  },
  "language_info": {
   "codemirror_mode": {
    "name": "ipython",
    "version": 3
   },
   "file_extension": ".py",
   "mimetype": "text/x-python",
   "name": "python",
   "nbconvert_exporter": "python",
   "pygments_lexer": "ipython3",
   "version": "3.7.3"
  }
 },
 "nbformat": 4,
 "nbformat_minor": 2
}
